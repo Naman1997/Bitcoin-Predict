{
  "nbformat": 4,
  "nbformat_minor": 0,
  "metadata": {
    "colab": {
      "name": "ANew.ipynb",
      "provenance": [],
      "authorship_tag": "ABX9TyPqe9I+Gz9MLQL5RiZeTiHD"
    },
    "kernelspec": {
      "name": "python3",
      "display_name": "Python 3"
    }
  },
  "cells": [
    {
      "cell_type": "code",
      "metadata": {
        "id": "nk4uu_0bz08p",
        "colab_type": "code",
        "colab": {}
      },
      "source": [
        "import numpy as np\n",
        "import matplotlib.pyplot as plt\n",
        "import pandas as pd\n",
        "from statsmodels.tsa.arima_model import ARIMA\n",
        "from itertools import product\n",
        "from datetime import datetime\n",
        "from scipy import stats\n",
        "import warnings"
      ],
      "execution_count": 0,
      "outputs": []
    },
    {
      "cell_type": "code",
      "metadata": {
        "id": "8UWTwZGy0BBH",
        "colab_type": "code",
        "colab": {}
      },
      "source": [
        "df = pd.read_csv(\"/content/coinbaseUSD_1-min_data_2014-12-01_to_2019-01-09.csv\", names = ['Timestamp', 'Open', 'High', 'Low', 'Close', \"VBTC\", 'VWEIGHT', 'Weighted_Price'])\n",
        "df['Timestamp'] = pd.to_datetime(df['Timestamp'], unit='s')\n",
        "df.set_index('Timestamp', inplace=True)\n",
        "df = df.resample('30T').mean()\n",
        "df['Weighted_Price_box'], lmbda = stats.boxcox(df.Weighted_Price)"
      ],
      "execution_count": 0,
      "outputs": []
    },
    {
      "cell_type": "code",
      "metadata": {
        "id": "_fIWquam7M_J",
        "colab_type": "code",
        "colab": {}
      },
      "source": [
        "y = df.Weighted_Price.fillna(df.Weighted_Price.mean())\n",
        "model = ARIMA(y, order = (1, 1, 2))\n",
        "model_fit = model.fit(disp = 0)"
      ],
      "execution_count": 0,
      "outputs": []
    },
    {
      "cell_type": "code",
      "metadata": {
        "id": "yyqbJ-KX7cow",
        "colab_type": "code",
        "colab": {}
      },
      "source": [
        "plt.rcParams.update({'figure.figsize':(12,5), 'figure.dpi':120})\n",
        "residuals = pd.DataFrame(model_fit.resid)\n",
        "fig, ax = plt.subplots(1,2)\n",
        "residuals.plot(title = \"Residuals\", ax = ax[0])\n",
        "residuals.plot(kind = \"kde\", title = \"Density\", ax = ax[1])\n",
        "plt.show()"
      ],
      "execution_count": 0,
      "outputs": []
    },
    {
      "cell_type": "code",
      "metadata": {
        "id": "NpOEUqchDqEz",
        "colab_type": "code",
        "colab": {}
      },
      "source": [
        "model_fit.plot_predict(dynamic = False)\n",
        "plt.show()"
      ],
      "execution_count": 0,
      "outputs": []
    },
    {
      "cell_type": "code",
      "metadata": {
        "id": "KOWoND-iQ7sJ",
        "colab_type": "code",
        "colab": {}
      },
      "source": [
        "d1 = date(2019,1,7)\n",
        "d2 = date(2019,12,31)\n",
        "d3 = (d2-d1).days\n",
        "d4 = date(2020,3,11)\n",
        "d5 = (d4-d2).days\n",
        "\n",
        "forecast = model_fit.forecast(steps = (30+d3+d5))[0]\n",
        "for i in forecast:\n",
        "  print(i)"
      ],
      "execution_count": 0,
      "outputs": []
    }
  ]
}