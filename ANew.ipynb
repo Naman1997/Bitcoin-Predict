{
 "cells": [
  {
   "cell_type": "code",
   "execution_count": 1,
   "metadata": {
    "colab": {},
    "colab_type": "code",
    "id": "nk4uu_0bz08p"
   },
   "outputs": [],
   "source": [
    "import numpy as np\n",
    "import matplotlib.pyplot as plt\n",
    "import pandas as pd\n",
    "from statsmodels.tsa.arima_model import ARIMA\n",
    "from itertools import product\n",
    "from datetime import datetime\n",
    "from scipy import stats\n",
    "import warnings"
   ]
  },
  {
   "cell_type": "code",
   "execution_count": 3,
   "metadata": {
    "colab": {},
    "colab_type": "code",
    "id": "8UWTwZGy0BBH"
   },
   "outputs": [
    {
     "name": "stdout",
     "output_type": "stream",
     "text": [
      "    Timestamp  Open  High  Low  Close          VBTC            VWEIGHT  \\\n",
      "0   Timestamp  Open  High  Low  Close  Volume_(BTC)  Volume_(Currency)   \n",
      "1  1417411980   300   300  300    300          0.01                  3   \n",
      "2  1417412040   NaN   NaN  NaN    NaN           NaN                NaN   \n",
      "3  1417412100   NaN   NaN  NaN    NaN           NaN                NaN   \n",
      "4  1417412160   NaN   NaN  NaN    NaN           NaN                NaN   \n",
      "\n",
      "   Weighted_Price  \n",
      "0  Weighted_Price  \n",
      "1             300  \n",
      "2             NaN  \n",
      "3             NaN  \n",
      "4             NaN  \n"
     ]
    }
   ],
   "source": [
    "df = pd.read_csv(\"coinbaseUSD_1-min_data_2014-12-01_to_2019-01-09.csv\", names = ['Timestamp', 'Open', 'High', 'Low', 'Close', \"VBTC\", 'VWEIGHT', 'Weighted_Price'])\n",
    "print(df.head())\n",
    "# df['Timestamp'] = pd.to_datetime(df['Timestamp'], unit='s')\n",
    "# df.set_index('Timestamp', inplace=True)\n",
    "# df = df.resample('30T').mean()\n",
    "# df['Weighted_Price_box'], lmbda = stats.boxcox(df.Weighted_Price)"
   ]
  },
  {
   "cell_type": "code",
   "execution_count": 0,
   "metadata": {
    "colab": {},
    "colab_type": "code",
    "id": "_fIWquam7M_J"
   },
   "outputs": [],
   "source": [
    "y = df.Weighted_Price.fillna(df.Weighted_Price.mean())\n",
    "model = ARIMA(y, order = (1, 1, 2))\n",
    "model_fit = model.fit(disp = 0)"
   ]
  },
  {
   "cell_type": "code",
   "execution_count": 0,
   "metadata": {
    "colab": {},
    "colab_type": "code",
    "id": "yyqbJ-KX7cow"
   },
   "outputs": [],
   "source": [
    "plt.rcParams.update({'figure.figsize':(12,5), 'figure.dpi':120})\n",
    "residuals = pd.DataFrame(model_fit.resid)\n",
    "fig, ax = plt.subplots(1,2)\n",
    "residuals.plot(title = \"Residuals\", ax = ax[0])\n",
    "residuals.plot(kind = \"kde\", title = \"Density\", ax = ax[1])\n",
    "plt.show()"
   ]
  },
  {
   "cell_type": "code",
   "execution_count": 0,
   "metadata": {
    "colab": {},
    "colab_type": "code",
    "id": "NpOEUqchDqEz"
   },
   "outputs": [],
   "source": [
    "model_fit.plot_predict(dynamic = False)\n",
    "plt.show()"
   ]
  },
  {
   "cell_type": "code",
   "execution_count": 0,
   "metadata": {
    "colab": {},
    "colab_type": "code",
    "id": "KOWoND-iQ7sJ"
   },
   "outputs": [],
   "source": [
    "d1 = date(2019,1,7)\n",
    "d2 = date(2019,12,31)\n",
    "d3 = (d2-d1).days\n",
    "d4 = date(2020,3,11)\n",
    "d5 = (d4-d2).days\n",
    "\n",
    "forecast = model_fit.forecast(steps = (30+d3+d5))[0]\n",
    "for i in forecast:\n",
    "  print(i)"
   ]
  }
 ],
 "metadata": {
  "colab": {
   "authorship_tag": "ABX9TyPqe9I+Gz9MLQL5RiZeTiHD",
   "name": "ANew.ipynb",
   "provenance": []
  },
  "kernelspec": {
   "display_name": "Python 3",
   "language": "python",
   "name": "python3"
  },
  "language_info": {
   "codemirror_mode": {
    "name": "ipython",
    "version": 3
   },
   "file_extension": ".py",
   "mimetype": "text/x-python",
   "name": "python",
   "nbconvert_exporter": "python",
   "pygments_lexer": "ipython3",
   "version": "3.8.2"
  }
 },
 "nbformat": 4,
 "nbformat_minor": 1
}
