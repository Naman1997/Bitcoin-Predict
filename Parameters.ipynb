{
  "nbformat": 4,
  "nbformat_minor": 0,
  "metadata": {
    "colab": {
      "name": "Parameters.ipynb",
      "provenance": [],
      "collapsed_sections": [],
      "machine_shape": "hm",
      "authorship_tag": "ABX9TyMQuEGKA8+9mr1iK0EXXBV5"
    },
    "kernelspec": {
      "name": "python3",
      "display_name": "Python 3"
    }
  },
  "cells": [
    {
      "cell_type": "code",
      "metadata": {
        "id": "wsLOUOTCfCv-",
        "colab_type": "code",
        "colab": {}
      },
      "source": [
        "import numpy as np\n",
        "import matplotlib.pyplot as plt\n",
        "import pandas as pd\n",
        "from statsmodels.tsa.arima_model import ARIMA\n",
        "import pmdarima as pm\n",
        "import statsmodels.api as sm\n",
        "from scipy import stats\n",
        "from itertools import product\n",
        "from datetime import datetime\n",
        "import seaborn as sns\n",
        "import warnings"
      ],
      "execution_count": 0,
      "outputs": []
    },
    {
      "cell_type": "code",
      "metadata": {
        "id": "GsOmz8sBzEn6",
        "colab_type": "code",
        "colab": {}
      },
      "source": [
        "!pip install pmdarima"
      ],
      "execution_count": 0,
      "outputs": []
    },
    {
      "cell_type": "code",
      "metadata": {
        "id": "zF626_yjg9z9",
        "colab_type": "code",
        "colab": {}
      },
      "source": [
        "from statsmodels.tsa.stattools import adfuller, acf\n",
        "from statsmodels.graphics.tsaplots import plot_acf, plot_pacf\n",
        "from pmdarima.arima.utils import ndiffs"
      ],
      "execution_count": 0,
      "outputs": []
    },
    {
      "cell_type": "code",
      "metadata": {
        "id": "EqAlhTEthCrN",
        "colab_type": "code",
        "outputId": "edc4fb7a-99d8-410c-f66f-24b16553f36a",
        "colab": {
          "base_uri": "https://localhost:8080/",
          "height": 272
        }
      },
      "source": [
        "df = pd.read_csv(\"/content/coinbaseUSD_1-min_data_2014-12-01_to_2019-01-09.csv\", names = ['Timestamp', 'Open', 'High', 'Low', 'Close', \"VBTC\", 'VWEIGHT', 'Weighted_Price'])\n",
        "df['Timestamp'] = pd.to_datetime(df['Timestamp'], unit='s')\n",
        "df.set_index('Timestamp', inplace=True)\n",
        "df = df.resample('D').mean()\n",
        "df['Weighted_Price_box'], lmbda = stats.boxcox(df.Weighted_Price)\n",
        "df['Weighted_Price_box']"
      ],
      "execution_count": 0,
      "outputs": [
        {
          "output_type": "stream",
          "text": [
            "/usr/local/lib/python3.6/dist-packages/scipy/stats/morestats.py:1044: RuntimeWarning: invalid value encountered in less_equal\n",
            "  if any(x <= 0):\n"
          ],
          "name": "stderr"
        },
        {
          "output_type": "execute_result",
          "data": {
            "text/plain": [
              "Timestamp\n",
              "1970-01-01             NaN\n",
              "1970-01-02             NaN\n",
              "1970-01-03             NaN\n",
              "1970-01-04             NaN\n",
              "1970-01-05             NaN\n",
              "                  ...     \n",
              "2019-01-03    2.686944e+29\n",
              "2019-01-04    2.433298e+29\n",
              "2019-01-05    2.714795e+29\n",
              "2019-01-06    2.962809e+29\n",
              "2019-01-07    4.093449e+29\n",
              "Freq: D, Name: Weighted_Price_box, Length: 17904, dtype: float64"
            ]
          },
          "metadata": {
            "tags": []
          },
          "execution_count": 119
        }
      ]
    },
    {
      "cell_type": "code",
      "metadata": {
        "id": "iUKY3RAynwr1",
        "colab_type": "code",
        "outputId": "a25ce352-318d-495e-abf3-1e7aaac5d9ba",
        "colab": {
          "base_uri": "https://localhost:8080/",
          "height": 51
        }
      },
      "source": [
        "result = adfuller(df.Weighted_Price.dropna())\n",
        "print('ADF Statistics : %f '% result[0])\n",
        "print(\"p-value : %f\"% result[1])"
      ],
      "execution_count": 0,
      "outputs": [
        {
          "output_type": "stream",
          "text": [
            "ADF Statistics : -1.794445 \n",
            "p-value : 0.383223\n"
          ],
          "name": "stdout"
        }
      ]
    },
    {
      "cell_type": "markdown",
      "metadata": {
        "id": "Qu5JQuAqqJiH",
        "colab_type": "text"
      },
      "source": [
        "Since the value of p is greater than the significance level so we will perform differencing and determine the order of differencing."
      ]
    },
    {
      "cell_type": "code",
      "metadata": {
        "id": "g5bc3Ut3qaQK",
        "colab_type": "code",
        "outputId": "613c88e6-a7ce-4ad4-d7ce-4aa1bdc68942",
        "colab": {
          "base_uri": "https://localhost:8080/",
          "height": 51
        }
      },
      "source": [
        "# 1st Differencing\n",
        "result = adfuller(df.Weighted_Price.diff().dropna())\n",
        "print('ADF Statistics : %f '% result[0])\n",
        "print(\"p-value : %f\"% result[1])\n",
        "\n",
        "# 2nd Differencing\n",
        "#result = adfuller(df.Weighted_Price_box.diff().diff().dropna())\n",
        "#print('ADF Statistics : %f '% result[0])\n",
        "#print(\"p-value : %f\"% result[1])\n"
      ],
      "execution_count": 0,
      "outputs": [
        {
          "output_type": "stream",
          "text": [
            "ADF Statistics : -6.704274 \n",
            "p-value : 0.000000\n"
          ],
          "name": "stdout"
        }
      ]
    },
    {
      "cell_type": "code",
      "metadata": {
        "id": "7PKLr03gMd3V",
        "colab_type": "code",
        "colab": {}
      },
      "source": [
        "def difference(df, interval = 1):\n",
        "  diff = list()\n",
        "  for i in range(interval, len(df)):\n",
        "    value = df[i] - df[i - interval]\n",
        "    diff.append(value)\n",
        "  return np.array(diff)\n",
        "\n",
        "def inverse_difference(history, yhat, value = 1):\n",
        "  return yhat + history[-value]"
      ],
      "execution_count": 0,
      "outputs": []
    },
    {
      "cell_type": "markdown",
      "metadata": {
        "id": "cFx_FAui5U2l",
        "colab_type": "text"
      },
      "source": [
        "As the value of p is less than the significance level, we shall fix the value of d."
      ]
    },
    {
      "cell_type": "code",
      "metadata": {
        "id": "MJiDA58Z3RQc",
        "colab_type": "code",
        "outputId": "f3fc7303-89a0-4271-d49f-1505d8d3fc6d",
        "colab": {
          "base_uri": "https://localhost:8080/",
          "height": 68
        }
      },
      "source": [
        "y = df.Weighted_Price.fillna(df.Weighted_Price.mean())\n",
        "#ADF Test\n",
        "print(ndiffs(y, test = 'adf'))\n",
        "\n",
        "#KPSS Test\n",
        "print(ndiffs(y, test = 'kpss'))\n",
        "\n",
        "#PP Test\n",
        "print(ndiffs(y, test = 'pp'))\n"
      ],
      "execution_count": 0,
      "outputs": [
        {
          "output_type": "stream",
          "text": [
            "0\n",
            "1\n",
            "0\n"
          ],
          "name": "stdout"
        }
      ]
    },
    {
      "cell_type": "code",
      "metadata": {
        "id": "XazwOw4MMuzh",
        "colab_type": "code",
        "colab": {}
      },
      "source": [
        "diff = difference(y, 365)"
      ],
      "execution_count": 0,
      "outputs": []
    },
    {
      "cell_type": "code",
      "metadata": {
        "id": "h4nzh18mrP_c",
        "colab_type": "code",
        "outputId": "8cdd60f5-346a-47fa-f8ee-933d4c35615f",
        "colab": {
          "base_uri": "https://localhost:8080/",
          "height": 367
        }
      },
      "source": [
        "#PACF plot of the 1st difference series\n",
        "\n",
        "plt.rcParams.update({'figure.figsize':(9,3), 'figure.dpi':120})\n",
        "\n",
        "#fig,axes = plt.subplots(1,2, sharex = True)\n",
        "#axes[0].plot(df.Weighted_Price_box); axes[0].set_title(\"Original Series\")\n",
        "#xes[1].set(ylim = (0,5))\n",
        "#plot_pacf(df.Weighted_Price_box.dropna(), ax = axes[1])\n",
        "\n",
        "fig, axes = plt.subplots(1, 2, sharex=True)\n",
        "axes[0].plot(y.diff()); axes[0].set_title('1st Difference')\n",
        "#axes[1].set(ylim = (0,5))\n",
        "plot_acf(y.diff(), ax=axes[1])\n",
        "\n",
        "\n",
        "plt.show()"
      ],
      "execution_count": 0,
      "outputs": [
        {
          "output_type": "display_data",
          "data": {
            "image/png": "[encoded data removed]",
            "text/plain": [
              "<Figure size 1080x360 with 2 Axes>"
            ]
          },
          "metadata": {
            "tags": []
          }
        }
      ]
    },
    {
      "cell_type": "code",
      "metadata": {
        "id": "2MaGLafy7kTu",
        "colab_type": "code",
        "outputId": "0e024a4e-8a4e-4860-b2f1-84123e7a86a3",
        "colab": {
          "base_uri": "https://localhost:8080/",
          "height": 425
        }
      },
      "source": [
        "model = ARIMA(diff, order = (1, 1, 2))\n",
        "model_fit = model.fit(disp = 0)\n",
        "print(model_fit.summary())"
      ],
      "execution_count": 0,
      "outputs": [
        {
          "output_type": "stream",
          "text": [
            "                             ARIMA Model Results                              \n",
            "==============================================================================\n",
            "Dep. Variable:                    D.y   No. Observations:                17538\n",
            "Model:                 ARIMA(1, 1, 2)   Log Likelihood             -103162.575\n",
            "Method:                       css-mle   S.D. of innovations             86.772\n",
            "Date:                Wed, 11 Mar 2020   AIC                         206335.150\n",
            "Time:                        09:26:31   BIC                         206374.011\n",
            "Sample:                             1   HQIC                        206347.946\n",
            "                                                                              \n",
            "==============================================================================\n",
            "                 coef    std err          z      P>|z|      [0.025      0.975]\n",
            "------------------------------------------------------------------------------\n",
            "const         -0.7097      0.805     -0.882      0.378      -2.288       0.868\n",
            "ar.L1.D.y     -0.9449      0.007   -140.363      0.000      -0.958      -0.932\n",
            "ma.L1.D.y      1.1473      0.009    120.788      0.000       1.129       1.166\n",
            "ma.L2.D.y      0.2424      0.007     33.112      0.000       0.228       0.257\n",
            "                                    Roots                                    \n",
            "=============================================================================\n",
            "                  Real          Imaginary           Modulus         Frequency\n",
            "-----------------------------------------------------------------------------\n",
            "AR.1           -1.0583           +0.0000j            1.0583            0.5000\n",
            "MA.1           -1.1521           +0.0000j            1.1521            0.5000\n",
            "MA.2           -3.5802           +0.0000j            3.5802            0.5000\n",
            "-----------------------------------------------------------------------------\n"
          ],
          "name": "stdout"
        }
      ]
    },
    {
      "cell_type": "code",
      "metadata": {
        "id": "6a-NMrHFGAYC",
        "colab_type": "code",
        "outputId": "cd6be3cd-9b86-4096-fb02-5a5082953912",
        "colab": {
          "base_uri": "https://localhost:8080/",
          "height": 459
        }
      },
      "source": [
        "model = ARIMA(y, order = (2, 1, 2))\n",
        "model_fit = model.fit(disp = 0)\n",
        "print(model_fit.summary())"
      ],
      "execution_count": 0,
      "outputs": [
        {
          "output_type": "stream",
          "text": [
            "                             ARIMA Model Results                              \n",
            "==============================================================================\n",
            "Dep. Variable:       D.Weighted_Price   No. Observations:                17903\n",
            "Model:                 ARIMA(2, 1, 2)   Log Likelihood             -100799.444\n",
            "Method:                       css-mle   S.D. of innovations             67.449\n",
            "Date:                Wed, 11 Mar 2020   AIC                         201610.888\n",
            "Time:                        08:59:40   BIC                         201657.645\n",
            "Sample:                    01-02-1970   HQIC                        201626.268\n",
            "                         - 01-07-2019                                         \n",
            "==========================================================================================\n",
            "                             coef    std err          z      P>|z|      [0.025      0.975]\n",
            "------------------------------------------------------------------------------------------\n",
            "const                      0.0490      0.615      0.080      0.937      -1.157       1.255\n",
            "ar.L1.D.Weighted_Price    -0.8662      0.037    -23.337      0.000      -0.939      -0.793\n",
            "ar.L2.D.Weighted_Price     0.0642      0.037      1.750      0.080      -0.008       0.136\n",
            "ma.L1.D.Weighted_Price     1.0512      0.037     28.525      0.000       0.979       1.123\n",
            "ma.L2.D.Weighted_Price     0.1478      0.036      4.075      0.000       0.077       0.219\n",
            "                                    Roots                                    \n",
            "=============================================================================\n",
            "                  Real          Imaginary           Modulus         Frequency\n",
            "-----------------------------------------------------------------------------\n",
            "AR.1           -1.0697           +0.0000j            1.0697            0.5000\n",
            "AR.2           14.5636           +0.0000j           14.5636            0.0000\n",
            "MA.1           -1.1311           +0.0000j            1.1311            0.5000\n",
            "MA.2           -5.9823           +0.0000j            5.9823            0.5000\n",
            "-----------------------------------------------------------------------------\n"
          ],
          "name": "stdout"
        }
      ]
    },
    {
      "cell_type": "markdown",
      "metadata": {
        "id": "B6-yNkSqBdrD",
        "colab_type": "text"
      },
      "source": [
        "As there is no considerable change in MA1 and MA2, we shall take the values of p and q as 1 and 2 respectively.\n"
      ]
    },
    {
      "cell_type": "code",
      "metadata": {
        "id": "5S6jcP8S77_g",
        "colab_type": "code",
        "outputId": "df039fb8-2d75-4da5-933f-79fdfb1d61d2",
        "colab": {
          "base_uri": "https://localhost:8080/",
          "height": 367
        }
      },
      "source": [
        "residuals = pd.DataFrame(model_fit.resid)\n",
        "fig, ax = plt.subplots(1,2)\n",
        "residuals.plot(title = \"Residuals\", ax = ax[0])\n",
        "residuals.plot(kind = \"kde\", title = \"Density\", ax = ax[1])\n",
        "plt.show()"
      ],
      "execution_count": 0,
      "outputs": [
        {
          "output_type": "display_data",
          "data": {
            "image/png": "[encoded data removed]",
            "text/plain": [
              "<Figure size 1080x360 with 2 Axes>"
            ]
          },
          "metadata": {
            "tags": []
          }
        }
      ]
    },
    {
      "cell_type": "code",
      "metadata": {
        "id": "i4vHBuI48bF3",
        "colab_type": "code",
        "outputId": "c4582115-0816-45d2-eda0-891a05af9bec",
        "colab": {
          "base_uri": "https://localhost:8080/",
          "height": 345
        }
      },
      "source": [
        "model_fit.plot_predict(dynamic = False)\n",
        "plt.show()"
      ],
      "execution_count": 0,
      "outputs": [
        {
          "output_type": "display_data",
          "data": {
            "image/png": "[encoded data removed]",
            "text/plain": [
              "<Figure size 1080x360 with 1 Axes>"
            ]
          },
          "metadata": {
            "tags": []
          }
        }
      ]
    },
    {
      "cell_type": "code",
      "metadata": {
        "id": "zWsyha00CyVY",
        "colab_type": "code",
        "outputId": "4a1a1da2-3d54-43c4-def2-72a6f326be95",
        "colab": {
          "base_uri": "https://localhost:8080/",
          "height": 527
        }
      },
      "source": [
        "#Prediction\n",
        "forecast = model_fit.forecast(steps = 30)[0]\n",
        "history = [x for x in df.Weighted_Price]\n",
        "day = 1\n",
        "for yhat in forecast:\n",
        "  inverted = inverse_difference(history, yhat, 365)\n",
        "  print(\"Day %d : %f\" % (day, inverted))\n",
        "  history.append(inverted)\n",
        "  day += 1"
      ],
      "execution_count": 0,
      "outputs": [
        {
          "output_type": "stream",
          "text": [
            "Day 1 : 19382.880248\n",
            "Day 2 : 18954.528379\n",
            "Day 3 : 18278.927324\n",
            "Day 4 : 17773.692668\n",
            "Day 5 : 17716.088611\n",
            "Day 6 : 18273.532648\n",
            "Day 7 : 17752.611546\n",
            "Day 8 : 17846.042544\n",
            "Day 9 : 16250.959670\n",
            "Day 10 : 14749.673555\n",
            "Day 11 : 15540.262904\n",
            "Day 12 : 15555.049022\n",
            "Day 13 : 16481.706500\n",
            "Day 14 : 15936.507402\n",
            "Day 15 : 15151.492375\n",
            "Day 16 : 14755.076973\n",
            "Day 17 : 15030.776206\n",
            "Day 18 : 15319.463586\n",
            "Day 19 : 15051.517681\n",
            "Day 20 : 15237.621394\n",
            "Day 21 : 15485.536960\n",
            "Day 22 : 15197.647673\n",
            "Day 23 : 14680.158266\n",
            "Day 24 : 14038.987598\n",
            "Day 25 : 13473.985282\n",
            "Day 26 : 12608.013204\n",
            "Day 27 : 12969.374913\n",
            "Day 28 : 12797.242618\n",
            "Day 29 : 11674.258857\n",
            "Day 30 : 10867.190293\n"
          ],
          "name": "stdout"
        }
      ]
    },
    {
      "cell_type": "code",
      "metadata": {
        "id": "S8AUbMWoPjAG",
        "colab_type": "code",
        "outputId": "ae0e5864-afb1-4e4b-8322-adff8474bfb4",
        "colab": {
          "base_uri": "https://localhost:8080/",
          "height": 527
        }
      },
      "source": [
        "start_index = len(diff)\n",
        "end_index = start_index + 30\n",
        "forecast1 = model_fit.predict(start = start_index, end = end_index)\n",
        "history = [x for x in df.Weighted_Price]\n",
        "day = 1\n",
        "for yhat in forecast:\n",
        "  inverted = df.Weighted_Price[-1] + inverse_difference(history, yhat, 365)\n",
        "  print(\"Day %d : %f\" % (day, inverted))\n",
        "  history.append(inverted)\n",
        "  day += 1"
      ],
      "execution_count": 0,
      "outputs": [
        {
          "output_type": "stream",
          "text": [
            "Day 1 : 23407.897864\n",
            "Day 2 : 22979.545996\n",
            "Day 3 : 22303.944940\n",
            "Day 4 : 21798.710284\n",
            "Day 5 : 21741.106228\n",
            "Day 6 : 22298.550265\n",
            "Day 7 : 21777.629163\n",
            "Day 8 : 21871.060161\n",
            "Day 9 : 20275.977286\n",
            "Day 10 : 18774.691171\n",
            "Day 11 : 19565.280520\n",
            "Day 12 : 19580.066638\n",
            "Day 13 : 20506.724117\n",
            "Day 14 : 19961.525018\n",
            "Day 15 : 19176.509991\n",
            "Day 16 : 18780.094590\n",
            "Day 17 : 19055.793822\n",
            "Day 18 : 19344.481202\n",
            "Day 19 : 19076.535298\n",
            "Day 20 : 19262.639011\n",
            "Day 21 : 19510.554576\n",
            "Day 22 : 19222.665290\n",
            "Day 23 : 18705.175882\n",
            "Day 24 : 18064.005214\n",
            "Day 25 : 17499.002898\n",
            "Day 26 : 16633.030820\n",
            "Day 27 : 16994.392529\n",
            "Day 28 : 16822.260235\n",
            "Day 29 : 15699.276473\n",
            "Day 30 : 14892.207909\n"
          ],
          "name": "stdout"
        }
      ]
    }
  ]
}