{
  "nbformat": 4,
  "nbformat_minor": 0,
  "metadata": {
    "colab": {
      "name": "SP.ipynb",
      "provenance": [],
      "mount_file_id": "1XDnPFNVcNsVbzK5JpGD2SKLAEneJkWv1",
      "authorship_tag": "ABX9TyOUg6Ng2YCH+uR9EuoOJ+I6"
    },
    "kernelspec": {
      "name": "python3",
      "display_name": "Python 3"
    }
  },
  "cells": [
    {
      "cell_type": "code",
      "metadata": {
        "id": "elqh1yh8mv2r",
        "colab_type": "code",
        "colab": {}
      },
      "source": [
        "import numpy as np\n",
        "import matplotlib.pyplot as plt\n",
        "import pandas as pd\n",
        "from datetime import datetime, date\n",
        "from scipy import stats\n",
        "import statsmodels.api as sm\n",
        "from itertools import product\n",
        "import seaborn as sns\n",
        "import warnings\n",
        "import pickle"
      ],
      "execution_count": 0,
      "outputs": []
    },
    {
      "cell_type": "code",
      "metadata": {
        "id": "6UZIDV9Gm0Nk",
        "colab_type": "code",
        "colab": {}
      },
      "source": [
        "df = pd.read_csv(\"/content/drive/My Drive/coinbaseUSD_1-min_data_2014-12-01_to_2019-01-09.csv\",delimiter= ',')"
      ],
      "execution_count": 0,
      "outputs": []
    },
    {
      "cell_type": "code",
      "metadata": {
        "id": "jsVNRJBkm2bc",
        "colab_type": "code",
        "colab": {}
      },
      "source": [
        "df['Timestamp'] = pd.to_datetime(df['Timestamp'], unit = 's')\n",
        "df.set_index('Timestamp', inplace=True)\n",
        "df = df.resample('D').mean()"
      ],
      "execution_count": 0,
      "outputs": []
    },
    {
      "cell_type": "code",
      "metadata": {
        "id": "_fLX_dqGm4r4",
        "colab_type": "code",
        "colab": {}
      },
      "source": [
        "df1 = df.iloc[:-30]"
      ],
      "execution_count": 0,
      "outputs": []
    },
    {
      "cell_type": "code",
      "metadata": {
        "id": "_Hrxl_tvpDJ7",
        "colab_type": "code",
        "colab": {}
      },
      "source": [
        "Q = range(0,2)\n",
        "q = range(0,2)\n",
        "P = range(0,2)\n",
        "p = range(0,2)\n",
        "D = 1\n",
        "d = 1\n",
        "parameters = product(p,q, P, Q)\n",
        "parameters_list = list(parameters)\n",
        "len(parameters_list)\n",
        "\n",
        "res = []\n",
        "ai = float(\"inf\")\n",
        "warnings.filterwarnings('ignore')\n",
        "for param in parameters_list:\n",
        "  try:\n",
        "    model = sm.tsa.statespace.SARIMAX(df1['Weighted_Price'], order = (param[0], d, param[1]),\n",
        "                                      seasonal_order = (param[2], D, param[3], 12)).fit(disp = -1)\n",
        "  except ValueError:\n",
        "    continue\n",
        "  aic = model.aic\n",
        "  if aic < ai:\n",
        "    ml = model\n",
        "    ai = aic\n",
        "    para = param\n",
        "  res.append([param, model.aic])"
      ],
      "execution_count": 0,
      "outputs": []
    },
    {
      "cell_type": "code",
      "metadata": {
        "id": "aNF2joCDpfDc",
        "colab_type": "code",
        "colab": {}
      },
      "source": [
        "filename = 'Sarima.pickle'\n",
        "pickle.dump(ml, open(filename, 'ab'))"
      ],
      "execution_count": 0,
      "outputs": []
    }
  ]
}