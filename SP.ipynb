{
 "cells": [
  {
   "cell_type": "code",
   "execution_count": 1,
   "metadata": {
    "colab": {},
    "colab_type": "code",
    "id": "elqh1yh8mv2r"
   },
   "outputs": [],
   "source": [
    "import numpy as np\n",
    "import matplotlib.pyplot as plt\n",
    "import pandas as pd\n",
    "from datetime import datetime, date\n",
    "from scipy import stats\n",
    "import statsmodels.api as sm\n",
    "from itertools import product\n",
    "import seaborn as sns\n",
    "import warnings\n",
    "import pickle"
   ]
  },
  {
   "cell_type": "code",
   "execution_count": 2,
   "metadata": {
    "colab": {},
    "colab_type": "code",
    "id": "6UZIDV9Gm0Nk"
   },
   "outputs": [],
   "source": [
    "df = pd.read_csv(\"coinbaseUSD_1-min_data_2014-12-01_to_2019-01-09.csv\",delimiter= ',')"
   ]
  },
  {
   "cell_type": "code",
   "execution_count": 3,
   "metadata": {
    "colab": {},
    "colab_type": "code",
    "id": "jsVNRJBkm2bc"
   },
   "outputs": [],
   "source": [
    "df['Timestamp'] = pd.to_datetime(df['Timestamp'], unit = 's')\n",
    "df.set_index('Timestamp', inplace=True)\n",
    "df = df.resample('D').mean()"
   ]
  },
  {
   "cell_type": "code",
   "execution_count": 4,
   "metadata": {
    "colab": {},
    "colab_type": "code",
    "id": "_fLX_dqGm4r4"
   },
   "outputs": [],
   "source": [
    "df1 = df.iloc[:-30]"
   ]
  },
  {
   "cell_type": "code",
   "execution_count": 5,
   "metadata": {
    "colab": {},
    "colab_type": "code",
    "id": "_Hrxl_tvpDJ7"
   },
   "outputs": [],
   "source": [
    "Q = range(0,2)\n",
    "q = range(0,2)\n",
    "P = range(0,2)\n",
    "p = range(0,2)\n",
    "D = 1\n",
    "d = 1\n",
    "parameters = product(p,q, P, Q)\n",
    "parameters_list = list(parameters)\n",
    "len(parameters_list)\n",
    "\n",
    "res = []\n",
    "ai = float(\"inf\")\n",
    "warnings.filterwarnings('ignore')\n",
    "for param in parameters_list:\n",
    "  try:\n",
    "    model = sm.tsa.statespace.SARIMAX(df1['Weighted_Price'], order = (param[0], d, param[1]),\n",
    "                                      seasonal_order = (param[2], D, param[3], 12)).fit(disp = -1)\n",
    "  except ValueError:\n",
    "    continue\n",
    "  aic = model.aic\n",
    "  if aic < ai:\n",
    "    ml = model\n",
    "    ai = aic\n",
    "    para = param\n",
    "  res.append([param, model.aic])"
   ]
  },
  {
   "cell_type": "code",
   "execution_count": 6,
   "metadata": {
    "colab": {},
    "colab_type": "code",
    "id": "aNF2joCDpfDc"
   },
   "outputs": [],
   "source": [
    "filename = 'Sarima.pickle'\n",
    "pickle.dump(ml, open(filename, 'ab'))"
   ]
  }
 ],
 "metadata": {
  "colab": {
   "authorship_tag": "ABX9TyOUg6Ng2YCH+uR9EuoOJ+I6",
   "mount_file_id": "1XDnPFNVcNsVbzK5JpGD2SKLAEneJkWv1",
   "name": "SP.ipynb",
   "provenance": []
  },
  "kernelspec": {
   "display_name": "Python 3",
   "language": "python",
   "name": "python3"
  },
  "language_info": {
   "codemirror_mode": {
    "name": "ipython",
    "version": 3
   },
   "file_extension": ".py",
   "mimetype": "text/x-python",
   "name": "python",
   "nbconvert_exporter": "python",
   "pygments_lexer": "ipython3",
   "version": "3.8.3"
  }
 },
 "nbformat": 4,
 "nbformat_minor": 1
}
