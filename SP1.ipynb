{
  "nbformat": 4,
  "nbformat_minor": 0,
  "metadata": {
    "colab": {
      "name": "SXF.ipynb",
      "provenance": [],
      "collapsed_sections": [],
      "mount_file_id": "1hvIfC1FPfVaaSNXFaQpEvM14DTzjthMl",
      "authorship_tag": "ABX9TyNoc5FCSJW8jS4VP7teRmtR"
    },
    "kernelspec": {
      "name": "python3",
      "display_name": "Python 3"
    }
  },
  "cells": [
    {
      "cell_type": "code",
      "metadata": {
        "id": "PHm2ajvrI6Ir",
        "colab_type": "code",
        "colab": {}
      },
      "source": [
        "import numpy as np\n",
        "import matplotlib.pyplot as plt\n",
        "import pandas as pd\n",
        "from datetime import datetime, date\n",
        "import warnings"
      ],
      "execution_count": 0,
      "outputs": []
    },
    {
      "cell_type": "code",
      "metadata": {
        "id": "7iQdQ3T5JO7N",
        "colab_type": "code",
        "colab": {}
      },
      "source": [
        "df = pd.read_csv(\"/content/drive/My Drive/coinbaseUSD_1-min_data_2014-12-01_to_2019-01-09.csv\",delimiter= ',')"
      ],
      "execution_count": 0,
      "outputs": []
    },
    {
      "cell_type": "code",
      "metadata": {
        "id": "KtH98VUAJTjE",
        "colab_type": "code",
        "colab": {}
      },
      "source": [
        "df['Timestamp'] = pd.to_datetime(df['Timestamp'], unit = 's')\n",
        "df.set_index('Timestamp', inplace=True)\n",
        "df = df.resample('D').mean()"
      ],
      "execution_count": 0,
      "outputs": []
    },
    {
      "cell_type": "code",
      "metadata": {
        "id": "DhL6EPBhJVof",
        "colab_type": "code",
        "colab": {}
      },
      "source": [
        "df1 = df.iloc[:-30]"
      ],
      "execution_count": 0,
      "outputs": []
    },
    {
      "cell_type": "code",
      "metadata": {
        "id": "VHyyEqBzv9PV",
        "colab_type": "code",
        "colab": {}
      },
      "source": [
        "import pickle"
      ],
      "execution_count": 0,
      "outputs": []
    },
    {
      "cell_type": "code",
      "metadata": {
        "id": "i3DFzSlDva2y",
        "colab_type": "code",
        "colab": {}
      },
      "source": [
        "filename = '/content/Sarima.pickle'\n",
        "loaded = pickle.load(open(filename, 'rb'))"
      ],
      "execution_count": 0,
      "outputs": []
    },
    {
      "cell_type": "code",
      "metadata": {
        "id": "JCtdexsLJgXI",
        "colab_type": "code",
        "colab": {}
      },
      "source": [
        "start = len(df1.axes[0])\n",
        "end = start + 29\n",
        "#df3 = the predicted array\n",
        "#d4 = the actual array]\n",
        "df3 = loaded.predict(start = start, end = end)\n",
        "df4 = df['Weighted_Price'][-30:]\n",
        "print(df3.to_list())\n",
        "print(df4.to_list())"
      ],
      "execution_count": 0,
      "outputs": []
    }
  ]
}