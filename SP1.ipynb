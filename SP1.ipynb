{
 "cells": [
  {
   "cell_type": "code",
   "execution_count": 1,
   "metadata": {
    "colab": {},
    "colab_type": "code",
    "id": "PHm2ajvrI6Ir"
   },
   "outputs": [],
   "source": [
    "import numpy as np\n",
    "import matplotlib.pyplot as plt\n",
    "import pandas as pd\n",
    "from datetime import datetime, date\n",
    "import warnings"
   ]
  },
  {
   "cell_type": "code",
   "execution_count": 2,
   "metadata": {
    "colab": {},
    "colab_type": "code",
    "id": "7iQdQ3T5JO7N"
   },
   "outputs": [],
   "source": [
    "df = pd.read_csv(\"coinbaseUSD_1-min_data_2014-12-01_to_2019-01-09.csv\",delimiter= ',')"
   ]
  },
  {
   "cell_type": "code",
   "execution_count": 3,
   "metadata": {
    "colab": {},
    "colab_type": "code",
    "id": "KtH98VUAJTjE"
   },
   "outputs": [],
   "source": [
    "df['Timestamp'] = pd.to_datetime(df['Timestamp'], unit = 's')\n",
    "df.set_index('Timestamp', inplace=True)\n",
    "df = df.resample('D').mean()"
   ]
  },
  {
   "cell_type": "code",
   "execution_count": 4,
   "metadata": {
    "colab": {},
    "colab_type": "code",
    "id": "DhL6EPBhJVof"
   },
   "outputs": [],
   "source": [
    "df1 = df.iloc[:-30]"
   ]
  },
  {
   "cell_type": "code",
   "execution_count": 5,
   "metadata": {
    "colab": {},
    "colab_type": "code",
    "id": "VHyyEqBzv9PV"
   },
   "outputs": [],
   "source": [
    "import pickle"
   ]
  },
  {
   "cell_type": "code",
   "execution_count": 6,
   "metadata": {
    "colab": {},
    "colab_type": "code",
    "id": "i3DFzSlDva2y"
   },
   "outputs": [],
   "source": [
    "filename = 'Sarima.pickle'\n",
    "loaded = pickle.load(open(filename, 'rb'))"
   ]
  },
  {
   "cell_type": "code",
   "execution_count": 7,
   "metadata": {
    "colab": {},
    "colab_type": "code",
    "id": "JCtdexsLJgXI"
   },
   "outputs": [
    {
     "name": "stdout",
     "output_type": "stream",
     "text": [
      "[3392.8971556610954, 3394.295916049271, 3388.961550148737, 3387.787334061086, 3369.473487691875, 3377.012271142617, 3389.0112365442774, 3406.962697141595, 3407.553197244913, 3428.662068764892, 3395.753260377212, 3411.927797651419, 3418.5475635662024, 3419.5772383885446, 3414.1709599464343, 3412.9827324367307, 3394.666156085467, 3402.204407627172, 3414.203269391806, 3432.1547097965095, 3432.7452059655034, 3453.8540767189206, 3420.9452681818834, 3437.119805426989, 3443.739571336103, 3444.7692461573406, 3439.3629677150147, 3438.1747402052697, 3419.8581638539977, 3427.396415395701]\n",
      "[3468.663403225554, 3469.77136552875, 3365.4488702873527, 3396.4404955374303, 3360.501889602705, 3234.1066606497934, 3179.7839882198623, 3217.446121112845, 3332.899623336669, 3508.7289067564507, 3749.330612098475, 3924.280666956248, 3973.4685131399297, 3852.283733905206, 3978.574500171601, 4126.049529977708, 3773.67269196507, 3775.0345207993223, 3717.5862901775704, 3701.1171038806237, 3874.1025926379243, 3788.855616916601, 3756.536168025486, 3700.5395281638207, 3823.152157601735, 3829.9009784497885, 3785.3374564055503, 3834.565401109714, 3874.33796786132, 4025.0176163319543]\n"
     ]
    }
   ],
   "source": [
    "start = len(df1.axes[0])\n",
    "end = start + 29\n",
    "#df3 = the predicted array\n",
    "#d4 = the actual array]\n",
    "df3 = loaded.predict(start = start, end = end)\n",
    "df4 = df['Weighted_Price'][-30:]\n",
    "print(df3.to_list())\n",
    "print(df4.to_list())"
   ]
  }
 ],
 "metadata": {
  "colab": {
   "authorship_tag": "ABX9TyNoc5FCSJW8jS4VP7teRmtR",
   "collapsed_sections": [],
   "mount_file_id": "1hvIfC1FPfVaaSNXFaQpEvM14DTzjthMl",
   "name": "SXF.ipynb",
   "provenance": []
  },
  "kernelspec": {
   "display_name": "Python 3",
   "language": "python",
   "name": "python3"
  },
  "language_info": {
   "codemirror_mode": {
    "name": "ipython",
    "version": 3
   },
   "file_extension": ".py",
   "mimetype": "text/x-python",
   "name": "python",
   "nbconvert_exporter": "python",
   "pygments_lexer": "ipython3",
   "version": "3.8.3"
  }
 },
 "nbformat": 4,
 "nbformat_minor": 1
}
