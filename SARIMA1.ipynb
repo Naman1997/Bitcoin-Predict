{
  "nbformat": 4,
  "nbformat_minor": 0,
  "metadata": {
    "colab": {
      "name": "SARIMA.ipynb",
      "provenance": [],
      "mount_file_id": "1c20e-7CspOG75-HGgJDQd-mHMoIsHZrd",
      "authorship_tag": "ABX9TyMCPF9slgullXx7AYK/FXPp"
    },
    "kernelspec": {
      "name": "python3",
      "display_name": "Python 3"
    }
  },
  "cells": [
    {
      "cell_type": "code",
      "metadata": {
        "id": "NkwMJi249BjJ",
        "colab_type": "code",
        "colab": {}
      },
      "source": [
        "!pip install pmdarima\n",
        "import numpy as np\n",
        "import matplotlib.pyplot as plt\n",
        "import pandas as pd\n",
        "from datetime import datetime, date\n",
        "import pmdarima as pm\n",
        "from scipy import stats\n",
        "from statsmodels.tsa.arima_model import ARIMA"
      ],
      "execution_count": 0,
      "outputs": []
    },
    {
      "cell_type": "code",
      "metadata": {
        "id": "YFeo3DOc-Pkn",
        "colab_type": "code",
        "colab": {}
      },
      "source": [
        "df = pd.read_csv(\"/content/coinbaseUSD_1-min_data_2014-12-01_to_2019-01-09.csv\",delimiter= ',')\n",
        "#df.tail()\n",
        "#df.columns\n",
        "#df['Seconds'] = df['Timestamp'].values.astype(float)"
      ],
      "execution_count": 0,
      "outputs": []
    },
    {
      "cell_type": "code",
      "metadata": {
        "id": "T6JlmxeYyvyX",
        "colab_type": "code",
        "colab": {}
      },
      "source": [
        "df['Timestamp'] = pd.to_datetime(df['Timestamp'], unit = 's')\n",
        "df.set_index('Timestamp', inplace=True)\n",
        "df = df.resample('D').mean()\n",
        "df['Weighted_Price_box'], lmbda = stats.boxcox(df.Weighted_Price)"
      ],
      "execution_count": 0,
      "outputs": []
    },
    {
      "cell_type": "code",
      "metadata": {
        "id": "sGnfRirPRXfE",
        "colab_type": "code",
        "colab": {}
      },
      "source": [
        "def difference(df, interval = 1):\n",
        "  diff = list()\n",
        "  for i in range(interval, len(df)):\n",
        "    value = df[i] - df[i - interval]\n",
        "    diff.append(value)\n",
        "  return np.array(diff)\n",
        "\n",
        "def inverse_difference(history, yhat, value = 1):\n",
        "  return yhat + history[-value]"
      ],
      "execution_count": 0,
      "outputs": []
    },
    {
      "cell_type": "code",
      "metadata": {
        "id": "XCVdJUxVRYY0",
        "colab_type": "code",
        "colab": {}
      },
      "source": [
        "y = df.Weighted_Price.dropna()\n",
        "diff = difference(y, 365)\n",
        "model = ARIMA(diff, order = (1,1,2))\n",
        "model_fit = model.fit(disp = 0)\n",
        "print(model_fit.summary())"
      ],
      "execution_count": 0,
      "outputs": []
    },
    {
      "cell_type": "code",
      "metadata": {
        "id": "kzYgAT4pRmxF",
        "colab_type": "code",
        "colab": {}
      },
      "source": [
        "plt.rcParams.update({'figure.figsize':(12,5), 'figure.dpi':120})\n",
        "residuals = pd.DataFrame(model_fit.resid)\n",
        "fig, ax = plt.subplots(1,2)\n",
        "residuals.plot(title = \"Residuals\", ax = ax[0])\n",
        "residuals.plot(kind = \"kde\", title = \"Density\", ax = ax[1])\n",
        "plt.show()"
      ],
      "execution_count": 0,
      "outputs": []
    },
    {
      "cell_type": "code",
      "metadata": {
        "id": "YbthAI8GW1y9",
        "colab_type": "code",
        "colab": {}
      },
      "source": [
        "model_fit.plot_predict(dynamic = False)\n",
        "plt.show()"
      ],
      "execution_count": 0,
      "outputs": []
    },
    {
      "cell_type": "code",
      "metadata": {
        "id": "_JTwiPGXTWhh",
        "colab_type": "code",
        "colab": {}
      },
      "source": [
        "#from datetime import date\n",
        "#d1 = date(2019, 9, 1)\n",
        "#d2 = (date.today() - d1).days +30"
      ],
      "execution_count": 0,
      "outputs": []
    },
    {
      "cell_type": "code",
      "metadata": {
        "id": "YELgbJmfRqOF",
        "colab_type": "code",
        "colab": {}
      },
      "source": [
        "start_index = len(diff) - 30\n",
        "end_index = start_index + 30\n",
        "forecast = model_fit.predict(start = start_index, end = end_index)\n",
        "history = [x for x in df.Weighted_Price]\n",
        "day = 1\n",
        "for yhat in forecast:\n",
        "  inverted = inverse_difference(history, yhat, 365)\n",
        "  print(\"Day %d : %f\" % (day, inverted))\n",
        "  history.append(inverted)\n",
        "  day += 1\n",
        "#for i in history[-30:]:\n",
        " # print(round(i, 2))"
      ],
      "execution_count": 0,
      "outputs": []
    }
  ]
}