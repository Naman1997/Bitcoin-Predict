{
  "nbformat": 4,
  "nbformat_minor": 0,
  "metadata": {
    "colab": {
      "name": "SA.ipynb",
      "provenance": [],
      "collapsed_sections": [],
      "authorship_tag": "ABX9TyMeH35umsuK1tL9murqmdAa"
    },
    "kernelspec": {
      "name": "python3",
      "display_name": "Python 3"
    }
  },
  "cells": [
    {
      "cell_type": "code",
      "metadata": {
        "id": "iDuo52OaNM5n",
        "colab_type": "code",
        "colab": {}
      },
      "source": [
        "import numpy as np\n",
        "#!pip install pmdarima\n",
        "import matplotlib.pyplot as plt\n",
        "import pandas as pd\n",
        "#from statsmodels.tsa.arima_model import ARIMA\n",
        "#import pmdarima as pm\n",
        "import statsmodels.api as sm\n",
        "from scipy import stats\n",
        "from itertools import product\n",
        "from datetime import datetime\n",
        "import seaborn as sns\n",
        "import warnings"
      ],
      "execution_count": 0,
      "outputs": []
    },
    {
      "cell_type": "code",
      "metadata": {
        "id": "9iMdnArSNhtd",
        "colab_type": "code",
        "colab": {}
      },
      "source": [
        "from statsmodels.tsa.stattools import adfuller, acf\n",
        "from statsmodels.graphics.tsaplots import plot_acf, plot_pacf\n",
        "from statsmodels.tsa.seasonal import seasonal_decompose"
      ],
      "execution_count": 0,
      "outputs": []
    },
    {
      "cell_type": "code",
      "metadata": {
        "id": "quQwWGpjNmnY",
        "colab_type": "code",
        "colab": {}
      },
      "source": [
        "df1 = pd.read_csv(\"/content/coinbaseUSD_1-min_data_2014-12-01_to_2019-01-09.csv\")"
      ],
      "execution_count": 0,
      "outputs": []
    },
    {
      "cell_type": "code",
      "metadata": {
        "id": "W8SfLA8zNxHI",
        "colab_type": "code",
        "colab": {}
      },
      "source": [
        "df1['Timestamp'] = pd.to_datetime(df1['Timestamp'], unit='s')\n",
        "df1.set_index('Timestamp', inplace=True)\n",
        "df1 = df1.resample('D').mean()"
      ],
      "execution_count": 0,
      "outputs": []
    },
    {
      "cell_type": "code",
      "metadata": {
        "id": "vWJnIOXeVXFZ",
        "colab_type": "code",
        "colab": {}
      },
      "source": [
        "df1.head()\n",
        "df1_month = df1.resample('M').mean()"
      ],
      "execution_count": 0,
      "outputs": []
    },
    {
      "cell_type": "code",
      "metadata": {
        "id": "zmizoaZxOj5U",
        "colab_type": "code",
        "colab": {}
      },
      "source": [
        "#plt.figure(figsize= [77,15])\n",
        "#df1_month = df1.resample('M').mean()\n",
        "#seasonal_decompose(df1_month['Weighted_Price'].dropna()).plot()\n",
        "#print('p value: %f' %adfuller(df1_month['Weighted_Price'])[1])\n",
        "#plt.show()"
      ],
      "execution_count": 0,
      "outputs": []
    },
    {
      "cell_type": "code",
      "metadata": {
        "id": "pSzb9L61XKtV",
        "colab_type": "code",
        "colab": {}
      },
      "source": [
        "df1_month['diff1'] = df1_month['Weighted_Price'] - df1_month['Weighted_Price'].shift(12)\n",
        "#print(\"p value: %f\" %adfuller(df1_month['diff1'][12:])[1])"
      ],
      "execution_count": 0,
      "outputs": []
    },
    {
      "cell_type": "code",
      "metadata": {
        "id": "ahlmO6HnYKwB",
        "colab_type": "code",
        "colab": {}
      },
      "source": [
        "df1_month['diff2'] = df1_month['diff1'] - df1_month['diff1'].shift(1)\n",
        "#plt.figure(figsize= (17,7))\n",
        "\n",
        "seasonal_decompose(df1_month['diff2'][13:]).plot()\n",
        "#print('p value: %f' %adfuller(df1_month['diff2'][13:])[1])\n",
        "\n",
        "#plt.show()"
      ],
      "execution_count": 0,
      "outputs": []
    },
    {
      "cell_type": "code",
      "metadata": {
        "id": "S9D4sD2RZKY-",
        "colab_type": "code",
        "colab": {}
      },
      "source": [
        "#plt.figure(figsize= (17,9))\n",
        "##ax = plt.subplot(211)\n",
        "#plot_acf(df1_month['diff2'][13:].values.squeeze(), ax = ax)\n",
        "\n",
        "#ax = plt.subplot(212)\n",
        "#plot_pacf(df1_month['diff2'][13:].values.squeeze(), ax = ax)\n",
        "#plt.tight_layout()\n",
        "#plt.show()"
      ],
      "execution_count": 0,
      "outputs": []
    },
    {
      "cell_type": "code",
      "metadata": {
        "id": "f4nRYTu9ga-v",
        "colab_type": "code",
        "colab": {}
      },
      "source": [
        "Q = range(0,2)\n",
        "q = range(0,3)\n",
        "P = range(0,3)\n",
        "p = range(0,3)\n",
        "D = 1\n",
        "d = 1\n",
        "parameters = product(p,q, P, Q)\n",
        "parameters_list = list(parameters)\n",
        "len(parameters_list)\n",
        "\n",
        "res = []\n",
        "ai = float(\"inf\")\n",
        "warnings.filterwarnings('ignore')\n",
        "for param in parameters_list:\n",
        "  try:\n",
        "    model = sm.tsa.statespace.SARIMAX(df1_month['Weighted_Price'], order = (param[0], d, param[1]),\n",
        "                                      seasonal_order = (param[2], D, param[3], 11)).fit(disp = -1)\n",
        "  except ValueError:\n",
        "    continue\n",
        "  aic = model.aic\n",
        "  if aic < ai:\n",
        "    ml = model\n",
        "    ai = aic\n",
        "    para = param\n",
        "  res.append([param, model.aic])"
      ],
      "execution_count": 0,
      "outputs": []
    },
    {
      "cell_type": "code",
      "metadata": {
        "id": "eQtRtpgDmPIg",
        "colab_type": "code",
        "colab": {}
      },
      "source": [
        "#retab = pd.DataFrame(res)\n",
        "#retab.columns = ['Parameters', 'aic']\n",
        "#print(retab.sort_values(by = 'aic', ascending = True).head())\n",
        "#rint(ml.summary())"
      ],
      "execution_count": 0,
      "outputs": []
    },
    {
      "cell_type": "code",
      "metadata": {
        "id": "lB5NM51wn1s-",
        "colab_type": "code",
        "outputId": "b9173a75-1bb9-427c-e52b-fe82f8024eb2",
        "colab": {
          "base_uri": "https://localhost:8080/",
          "height": 442
        }
      },
      "source": [
        "#plt.figure(figsize= (17,9))\n",
        "#plt.subplot(211)\n",
        "#ml.resid[13:].plot()\n",
        "#ax = plt.subplot(212)\n",
        "#plot_acf(ml.resid[13:].values.squeeze(), ax = ax)\n",
        "#print('p value: %f' %adfuller(ml.resid[13:])[1])\n",
        "#plt.tight_layout()\n",
        "#plt.show()\n"
      ],
      "execution_count": 0,
      "outputs": [
        {
          "output_type": "stream",
          "text": [
            "p value: 0.000034\n"
          ],
          "name": "stdout"
        },
        {
          "output_type": "display_data",
          "data": {
            "image/png": "[encoded data removed]",
            "text/plain": [
              "<Figure size 1224x648 with 2 Axes>"
            ]
          },
          "metadata": {
            "tags": [],
            "needs_background": "light"
          }
        }
      ]
    },
    {
      "cell_type": "code",
      "metadata": {
        "id": "BMZ4N_mbpT3w",
        "colab_type": "code",
        "colab": {}
      },
      "source": [
        "df1_month2 = df1_month[['Weighted_Price']]\n",
        "date_list = [datetime(2019, 9, 30), datetime(2019, 10, 31), datetime(2019, 11, 30), datetime(2019, 12, 31), datetime(2020, 1, 31), datetime(2020, 2, 29), datetime(2020, 3, 31), datetime(2020, 4, 30), datetime(2020, 5, 31)]\n",
        "ft = pd.DataFrame(index= date_list, columns= df1_month.columns)\n",
        "df1_month2 = pd.concat([df1_month2, ft])\n",
        "df1_month2['forecast'] = ml.predict(start= 0, end = 60)\n",
        "plt.figure(figsize= (17,9))\n",
        "df1_month2['Weighted_Price'].plot()\n",
        "df1_month2['forecast'].plot(color = 'g')\n",
        "plt.legend()\n",
        "plt.show()"
      ],
      "execution_count": 0,
      "outputs": []
    }
  ]
}