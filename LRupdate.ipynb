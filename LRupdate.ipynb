{
  "nbformat": 4,
  "nbformat_minor": 0,
  "metadata": {
    "colab": {
      "name": "LRupdate.ipynb",
      "provenance": [],
      "collapsed_sections": [],
      "authorship_tag": "ABX9TyNVBHOM0ZxHuHlhDIZ8yiT/"
    },
    "kernelspec": {
      "name": "python3",
      "display_name": "Python 3"
    }
  },
  "cells": [
    {
      "cell_type": "code",
      "metadata": {
        "id": "1toTijD5E37R",
        "colab_type": "code",
        "colab": {}
      },
      "source": [
        "def LRpredictions(time =30):\n",
        "  df = pd.read_csv(\"/content/drive/My Drive/coinbaseUSD_1-min_data_2014-12-01_to_2019-01-09.csv\",delimiter= ',')\n",
        "  df['Timestamp'] = pd.to_datetime(df['Timestamp'], unit = 's')\n",
        "  df.set_index('Timestamp', inplace=True)\n",
        "  df = df.resample('D').mean().dropna()\n",
        "  df.reset_index(inplace = True)\n",
        "  le = preprocessing.LabelEncoder()\n",
        "  le.fit(df['Timestamp'])\n",
        "  x = le.transform(df['Timestamp']).reshape(-1,1)\n",
        "  y = df['Weighted_Price'].to_list()\n",
        "  modelo=linear_model.LinearRegression()\n",
        "  modelo.fit(x, y)\n",
        "  return modelo.predict(x).ravel().tolist()[-time:]\n",
        "print(LRpredictions(30))"
      ],
      "execution_count": 0,
      "outputs": []
    },
    {
      "cell_type": "code",
      "metadata": {
        "id": "5uYTOX-ZE8pq",
        "colab_type": "code",
        "colab": {}
      },
      "source": [
        "def LRtest(time =30):\n",
        "  df = pd.read_csv(\"/content/drive/My Drive/coinbaseUSD_1-min_data_2014-12-01_to_2019-01-09.csv\",delimiter= ',')\n",
        "  df['Timestamp'] = pd.to_datetime(df['Timestamp'], unit = 's')\n",
        "  df.set_index('Timestamp', inplace=True)\n",
        "  df = df.resample('D').mean().dropna()\n",
        "  x = df['Weighted_Price'][-time:].to_list()\n",
        "  return x\n",
        "print(LRtest(30))"
      ],
      "execution_count": 0,
      "outputs": []
    }
  ]
}