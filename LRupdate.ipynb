{
 "cells": [
  {
   "cell_type": "code",
   "execution_count": 12,
   "metadata": {
    "colab": {},
    "colab_type": "code",
    "id": "1toTijD5E37R"
   },
   "outputs": [
    {
     "name": "stdout",
     "output_type": "stream",
     "text": [
      "[7727.66005575198, 7734.251462751945, 7740.842869751908, 7747.434276751872, 7754.0256837518355, 7760.617090751799, 7767.208497751764, 7773.799904751728, 7780.391311751691, 7786.982718751655, 7793.574125751618, 7800.165532751584, 7806.756939751547, 7813.348346751511, 7819.939753751474, 7826.531160751438, 7833.122567751403, 7839.713974751367, 7846.30538175133, 7852.896788751294, 7859.488195751257, 7866.079602751222, 7872.671009751186, 7879.262416751149, 7885.853823751113, 7892.445230751076, 7899.03663775104, 7905.628044751005, 7912.219451750969, 7918.810858750932]\n"
     ]
    }
   ],
   "source": [
    "# First step, import libraries.\n",
    "import numpy as np\n",
    "import pandas as pd \n",
    "import matplotlib\n",
    "from matplotlib import pyplot as plt\n",
    "from sklearn.preprocessing import MinMaxScaler\n",
    "import glob\n",
    "from sklearn import linear_model\n",
    "# Import the dataset and encode the date\n",
    "\n",
    "\n",
    "def LRpredictions(time =30):\n",
    "  df = pd.read_csv(\"coinbaseUSD_1-min_data_2014-12-01_to_2019-01-09.csv\",delimiter= ',')\n",
    "  df['Timestamp'] = pd.to_datetime(df['Timestamp'], unit = 's')\n",
    "  df.set_index('Timestamp', inplace=True)\n",
    "  df = df.resample('D').mean().dropna()\n",
    "  df.reset_index(inplace = True)\n",
    "  le = preprocessing.LabelEncoder()\n",
    "  le.fit(df['Timestamp'])\n",
    "  x = le.transform(df['Timestamp']).reshape(-1,1)\n",
    "  y = df['Weighted_Price'].to_list()\n",
    "  modelo=linear_model.LinearRegression()\n",
    "  modelo.fit(x, y)\n",
    "  return modelo.predict(x).ravel().tolist()[-time:]\n",
    "print(LRpredictions(30))"
   ]
  },
  {
   "cell_type": "code",
   "execution_count": 13,
   "metadata": {
    "colab": {},
    "colab_type": "code",
    "id": "5uYTOX-ZE8pq"
   },
   "outputs": [
    {
     "name": "stdout",
     "output_type": "stream",
     "text": [
      "[3468.663403225554, 3469.77136552875, 3365.4488702873527, 3396.4404955374303, 3360.501889602705, 3234.1066606497934, 3179.7839882198623, 3217.446121112845, 3332.899623336669, 3508.7289067564507, 3749.330612098475, 3924.280666956248, 3973.4685131399297, 3852.283733905206, 3978.574500171601, 4126.049529977708, 3773.67269196507, 3775.0345207993223, 3717.5862901775704, 3701.1171038806237, 3874.1025926379243, 3788.855616916601, 3756.536168025486, 3700.5395281638207, 3823.152157601735, 3829.9009784497885, 3785.3374564055503, 3834.565401109714, 3874.33796786132, 4025.0176163319543]\n"
     ]
    }
   ],
   "source": [
    "def LRtest(time =30):\n",
    "  df = pd.read_csv(\"coinbaseUSD_1-min_data_2014-12-01_to_2019-01-09.csv\",delimiter= ',')\n",
    "  df['Timestamp'] = pd.to_datetime(df['Timestamp'], unit = 's')\n",
    "  df.set_index('Timestamp', inplace=True)\n",
    "  df = df.resample('D').mean().dropna()\n",
    "  x = df['Weighted_Price'][-time:].to_list()\n",
    "  return x\n",
    "print(LRtest(30))"
   ]
  }
 ],
 "metadata": {
  "colab": {
   "authorship_tag": "ABX9TyNVBHOM0ZxHuHlhDIZ8yiT/",
   "collapsed_sections": [],
   "name": "LRupdate.ipynb",
   "provenance": []
  },
  "kernelspec": {
   "display_name": "Python 3",
   "language": "python",
   "name": "python3"
  },
  "language_info": {
   "codemirror_mode": {
    "name": "ipython",
    "version": 3
   },
   "file_extension": ".py",
   "mimetype": "text/x-python",
   "name": "python",
   "nbconvert_exporter": "python",
   "pygments_lexer": "ipython3",
   "version": "3.8.3"
  }
 },
 "nbformat": 4,
 "nbformat_minor": 1
}
