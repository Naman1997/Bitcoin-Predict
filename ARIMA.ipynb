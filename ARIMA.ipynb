{
  "nbformat": 4,
  "nbformat_minor": 0,
  "metadata": {
    "colab": {
      "name": "ARIMA",
      "provenance": [],
      "collapsed_sections": [],
      "authorship_tag": "ABX9TyOLStBtYn8lI4yuJz0yWEfJ",
      "include_colab_link": true
    },
    "kernelspec": {
      "name": "python3",
      "display_name": "Python 3"
    }
  },
  "cells": [
    {
      "cell_type": "markdown",
      "metadata": {
        "id": "view-in-github",
        "colab_type": "text"
      },
      "source": [
        "<a href=\"https://colab.research.google.com/github/vithika-mulye/Bitcoin-Predict/blob/master/ARIMA.ipynb\" target=\"_parent\"><img src=\"https://colab.research.google.com/assets/colab-badge.svg\" alt=\"Open In Colab\"/></a>"
      ]
    },
    {
      "cell_type": "code",
      "metadata": {
        "colab_type": "code",
        "id": "cU35rYfTjBRd",
        "colab": {}
      },
      "source": [
        "import numpy as np\n",
        "import pandas as pd\n",
        "import seaborn as sns\n",
        "import matplotlib.pyplot as plt\n",
        "import matplotlib as mpl\n",
        "from scipy import stats\n",
        "import statsmodels.api as sm\n",
        "import warnings\n",
        "from itertools import product\n",
        "from datetime import datetime\n",
        "warnings.filterwarnings('ignore')\n",
        "plt.style.use('seaborn-poster')"
      ],
      "execution_count": 0,
      "outputs": []
    },
    {
      "cell_type": "code",
      "metadata": {
        "id": "ZsucHIADjB9i",
        "colab_type": "code",
        "colab": {}
      },
      "source": [
        "df = pd.read_csv('coinbaseUSD_1-min_data_2014-12-01_to_2019-01-09.csv')\n",
        "df.head()\n",
        "df.index = pd.to_datetime(df['Timestamp'], unit='s')\n",
        "#df.set_index(['Timestamp'])\n",
        "#df.head()\n",
        "df = df.resample('D').mean()\n",
        "df_month = df.resample('M').mean()\n",
        "df_year = df.resample('A-DEC').mean()\n",
        "df_Q = df.resample('Q-DEC').mean()"
      ],
      "execution_count": 0,
      "outputs": []
    },
    {
      "cell_type": "code",
      "metadata": {
        "colab_type": "code",
        "id": "1SQdU1uOkYk-",
        "colab": {}
      },
      "source": [
        "'''\n",
        "fig = plt.figure(figsize=[15, 7])\n",
        "plt.suptitle('Bitcoin exchanges, mean USD', fontsize=22)\n",
        "plt.subplot(221)\n",
        "plt.plot(df.Weighted_Price, '-', label='By Days')\n",
        "plt.legend()\n",
        "plt.subplot(222)\n",
        "plt.plot(df_month.Weighted_Price, '-', label='By Months')\n",
        "plt.legend()\n",
        "plt.subplot(223)\n",
        "plt.plot(df_Q.Weighted_Price, '-', label='By Quarters')\n",
        "plt.legend()\n",
        "plt.subplot(224)\n",
        "plt.plot(df_year.Weighted_Price, '-', label='By Years')\n",
        "plt.legend()\n",
        "'''"
      ],
      "execution_count": 0,
      "outputs": []
    },
    {
      "cell_type": "code",
      "metadata": {
        "id": "0nYXcB4Kqq6Y",
        "colab_type": "code",
        "colab": {}
      },
      "source": [
        "#plt.figure(figsize= [15, 7])\n",
        "#sm.tsa.seasonal_decompose(df_month.Weighted_Price).plot()\n",
        "#print(\"Dickey-Fuller test : p = %f\" %sm.tsa.stattools.adfuller(df_month.Weighted_Price)[1])\n",
        "#plt.show()"
      ],
      "execution_count": 0,
      "outputs": []
    },
    {
      "cell_type": "code",
      "metadata": {
        "id": "jChXKxj7qzw1",
        "colab_type": "code",
        "colab": {}
      },
      "source": [
        "df_month['Weighted_Price_box'], lmbda = stats.boxcox(df_month.Weighted_Price)\n",
        "#print(\"Dickey–Fuller test: p=%f\" % sm.tsa.stattools.adfuller(df_month.Weighted_Price)[1])"
      ],
      "execution_count": 0,
      "outputs": []
    },
    {
      "cell_type": "code",
      "metadata": {
        "id": "WN0lGhN0q_1P",
        "colab_type": "code",
        "colab": {}
      },
      "source": [
        "df_month['prices_box_diff'] = df_month.Weighted_Price_box - df_month.Weighted_Price_box.shift(12)\n",
        "#print(\"Dickey–Fuller test: p=%f\" % sm.tsa.stattools.adfuller(df_month.prices_box_diff[12:])[1])"
      ],
      "execution_count": 0,
      "outputs": []
    },
    {
      "cell_type": "code",
      "metadata": {
        "id": "ZlJ8USkKryxS",
        "colab_type": "code",
        "colab": {}
      },
      "source": [
        "Qs = range(0, 2)\n",
        "qs = range(0, 3)\n",
        "Ps = range(0, 3)\n",
        "ps = range(0, 3)\n",
        "D = 1\n",
        "d = 1\n",
        "parameters = product(Qs, qs, Ps, ps)\n",
        "param_list = list(parameters)\n",
        "#len(param_list)"
      ],
      "execution_count": 0,
      "outputs": []
    },
    {
      "cell_type": "code",
      "metadata": {
        "id": "RR0u7EeC2jtZ",
        "colab_type": "code",
        "colab": {}
      },
      "source": [
        "results = []\n",
        "best_aic = float(\"inf\")\n",
        "warnings.filterwarnings('ignore')\n",
        "\n",
        "for param in param_list:\n",
        "  try:\n",
        "    model = sm.tsa.statespace.SARIMAX(df_month.Weighted_Price_box, order = (param[0], d, param[1]), seasonal_order=(param[2], D, param[3], 10)).fit(disp = -1)\n",
        "  except ValueError:\n",
        "    print('wrong parameters: ', param)\n",
        "    continue\n",
        "  aic = model.aic\n",
        "  if aic < best_aic:\n",
        "    best_model = model\n",
        "    best_aic = aic\n",
        "    best_param = param\n",
        "  results.append([param, model.aic])"
      ],
      "execution_count": 0,
      "outputs": []
    },
    {
      "cell_type": "code",
      "metadata": {
        "id": "IVU18e_F0fKc",
        "colab_type": "code",
        "colab": {}
      },
      "source": [
        "result_table = pd.DataFrame(results)\n",
        "result_table.columns = ['parameters', 'aic']\n",
        "#print(result_table.sort_values(by = 'aic', ascending = True).head())\n",
        "#print(best_model.summary())"
      ],
      "execution_count": 0,
      "outputs": []
    },
    {
      "cell_type": "code",
      "metadata": {
        "id": "HQOQE4tB3-ha",
        "colab_type": "code",
        "colab": {}
      },
      "source": [
        "'''\n",
        "plt.figure(figsize = (15,7))\n",
        "plt.subplot(221)\n",
        "best_model.resid[13:].plot()\n",
        "plt.ylabel(u'Residuals')\n",
        "ax = plt.subplot(222)\n",
        "print('Dickery-Fuller test :: p = %f' % sm.tsa.stattools.adfuller(best_model.resid[13:])[1])\n",
        "plt.tight_layout()\n",
        "plt.show()\n",
        "'''"
      ],
      "execution_count": 0,
      "outputs": []
    },
    {
      "cell_type": "code",
      "metadata": {
        "id": "9TLBeW_R475F",
        "colab_type": "code",
        "colab": {}
      },
      "source": [
        "def invboxcox(y, lmbda):\n",
        "  if lmbda == 0:\n",
        "    return(np.exp(y))\n",
        "  else:\n",
        "    return(np.exp(np.log(lmbda*y+1)/lmbda))\n",
        "  \n",
        "df_m2 = df_month[['Weighted_Price']]\n",
        "date_list = [datetime(2019, 9, 30), datetime(2019, 10, 31), datetime(2019, 11, 30), datetime(2019, 12, 31), datetime(2020, 1, 31), datetime(2020, 2, 29)]\n",
        "future = pd.DataFrame(index= date_list, columns= df_month.columns)\n",
        "df_m2 = pd.concat([df_m2, future])\n",
        "df_m2['forecast'] = invboxcox(best_model.predict(start = 0, end = 100), lmbda)\n"
      ],
      "execution_count": 0,
      "outputs": []
    }
  ]
}