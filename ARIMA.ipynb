{
 "cells": [
  {
   "cell_type": "markdown",
   "metadata": {
    "colab_type": "text",
    "id": "view-in-github"
   },
   "source": [
    "<a href=\"https://colab.research.google.com/github/vithika-mulye/Bitcoin-Predict/blob/master/ARIMA.ipynb\" target=\"_parent\"><img src=\"https://colab.research.google.com/assets/colab-badge.svg\" alt=\"Open In Colab\"/></a>"
   ]
  },
  {
   "cell_type": "code",
   "execution_count": 1,
   "metadata": {
    "colab": {},
    "colab_type": "code",
    "id": "cU35rYfTjBRd"
   },
   "outputs": [],
   "source": [
    "import numpy as np\n",
    "import pandas as pd\n",
    "import seaborn as sns\n",
    "import matplotlib.pyplot as plt\n",
    "import matplotlib as mpl\n",
    "from scipy import stats\n",
    "import statsmodels.api as sm\n",
    "import warnings\n",
    "from itertools import product\n",
    "from datetime import datetime\n",
    "warnings.filterwarnings('ignore')\n",
    "plt.style.use('seaborn-poster')"
   ]
  },
  {
   "cell_type": "code",
   "execution_count": 4,
   "metadata": {
    "colab": {
     "base_uri": "https://localhost:8080/",
     "height": 462
    },
    "colab_type": "code",
    "id": "ZsucHIADjB9i",
    "outputId": "26aa8f4a-00da-4453-fef6-37307261ed9d"
   },
   "outputs": [
    {
     "name": "stdout",
     "output_type": "stream",
     "text": [
      "               Timestamp        Open        High         Low       Close  \\\n",
      "Timestamp                                                                  \n",
      "2014-12-01  1.417445e+09  335.000000  335.000000  335.000000  335.000000   \n",
      "2014-12-02  1.417522e+09  377.821429  377.857143  377.821429  377.857143   \n",
      "2014-12-03  1.417608e+09  377.818333  377.818333  377.818333  377.818333   \n",
      "2014-12-04  1.417654e+09  377.100000  377.100000  377.100000  377.100000   \n",
      "2014-12-05           NaN         NaN         NaN         NaN         NaN   \n",
      "2014-12-06  1.417830e+09  378.000000  378.000000  378.000000  378.000000   \n",
      "2014-12-07           NaN         NaN         NaN         NaN         NaN   \n",
      "2014-12-08  1.418078e+09  375.010000  375.010000  375.000000  375.000000   \n",
      "2014-12-09           NaN         NaN         NaN         NaN         NaN   \n",
      "2014-12-10  1.418179e+09  379.250000  379.250000  379.250000  379.250000   \n",
      "\n",
      "            Volume_(BTC)  Volume_(Currency)  Weighted_Price  \n",
      "Timestamp                                                    \n",
      "2014-12-01      0.014139           4.881387      335.000000  \n",
      "2014-12-02      2.144800         810.724043      377.854911  \n",
      "2014-12-03      0.091101          34.419664      377.818333  \n",
      "2014-12-04      0.010000           3.771000      377.100000  \n",
      "2014-12-05           NaN                NaN             NaN  \n",
      "2014-12-06      0.015000           5.670000      378.000000  \n",
      "2014-12-07           NaN                NaN             NaN  \n",
      "2014-12-08      0.235000          88.125100      375.000426  \n",
      "2014-12-09           NaN                NaN             NaN  \n",
      "2014-12-10      0.010000           3.792500      379.250000  \n"
     ]
    }
   ],
   "source": [
    "df = pd.read_csv('coinbaseUSD_1-min_data_2014-12-01_to_2019-01-09.csv')\n",
    "df.index = pd.to_datetime(df['Timestamp'], unit='s')\n",
    "#df.set_index(['Timestamp'])\n",
    "df = df.resample('D').mean()\n",
    "print(df.head(10))\n",
    "df_month = df.resample('M').mean()\n",
    "df_year = df.resample('A-DEC').mean()\n",
    "df_Q = df.resample('Q-DEC').mean()"
   ]
  },
  {
   "cell_type": "code",
   "execution_count": 6,
   "metadata": {
    "colab": {},
    "colab_type": "code",
    "id": "1SQdU1uOkYk-"
   },
   "outputs": [
    {
     "data": {
      "text/plain": [
       "\"\\nfig = plt.figure(figsize=[15, 7])\\nplt.suptitle('Bitcoin exchanges, mean USD', fontsize=22)\\nplt.subplot(221)\\nplt.plot(df.Weighted_Price, '-', label='By Days')\\nplt.legend()\\nplt.subplot(222)\\nplt.plot(df_month.Weighted_Price, '-', label='By Months')\\nplt.legend()\\nplt.subplot(223)\\nplt.plot(df_Q.Weighted_Price, '-', label='By Quarters')\\nplt.legend()\\nplt.subplot(224)\\nplt.plot(df_year.Weighted_Price, '-', label='By Years')\\nplt.legend()\\n\""
      ]
     },
     "execution_count": 6,
     "metadata": {},
     "output_type": "execute_result"
    }
   ],
   "source": [
    "'''\n",
    "fig = plt.figure(figsize=[15, 7])\n",
    "plt.suptitle('Bitcoin exchanges, mean USD', fontsize=22)\n",
    "plt.subplot(221)\n",
    "plt.plot(df.Weighted_Price, '-', label='By Days')\n",
    "plt.legend()\n",
    "plt.subplot(222)\n",
    "plt.plot(df_month.Weighted_Price, '-', label='By Months')\n",
    "plt.legend()\n",
    "plt.subplot(223)\n",
    "plt.plot(df_Q.Weighted_Price, '-', label='By Quarters')\n",
    "plt.legend()\n",
    "plt.subplot(224)\n",
    "plt.plot(df_year.Weighted_Price, '-', label='By Years')\n",
    "plt.legend()\n",
    "'''"
   ]
  },
  {
   "cell_type": "code",
   "execution_count": 7,
   "metadata": {
    "colab": {},
    "colab_type": "code",
    "id": "0nYXcB4Kqq6Y"
   },
   "outputs": [],
   "source": [
    "#plt.figure(figsize= [15, 7])\n",
    "#sm.tsa.seasonal_decompose(df_month.Weighted_Price).plot()\n",
    "#print(\"Dickey-Fuller test : p = %f\" %sm.tsa.stattools.adfuller(df_month.Weighted_Price)[1])\n",
    "#plt.show()"
   ]
  },
  {
   "cell_type": "code",
   "execution_count": 8,
   "metadata": {
    "colab": {},
    "colab_type": "code",
    "id": "jChXKxj7qzw1"
   },
   "outputs": [],
   "source": [
    "df_month['Weighted_Price_box'], lmbda = stats.boxcox(df_month.Weighted_Price)\n",
    "#print(\"Dickey–Fuller test: p=%f\" % sm.tsa.stattools.adfuller(df_month.Weighted_Price)[1])"
   ]
  },
  {
   "cell_type": "code",
   "execution_count": 9,
   "metadata": {
    "colab": {},
    "colab_type": "code",
    "id": "WN0lGhN0q_1P"
   },
   "outputs": [],
   "source": [
    "df_month['prices_box_diff'] = df_month.Weighted_Price_box - df_month.Weighted_Price_box.shift(12)\n",
    "#print(\"Dickey–Fuller test: p=%f\" % sm.tsa.stattools.adfuller(df_month.prices_box_diff[12:])[1])"
   ]
  },
  {
   "cell_type": "code",
   "execution_count": 10,
   "metadata": {
    "colab": {},
    "colab_type": "code",
    "id": "ZlJ8USkKryxS"
   },
   "outputs": [],
   "source": [
    "Qs = range(0, 2)\n",
    "qs = range(0, 3)\n",
    "Ps = range(0, 3)\n",
    "ps = range(0, 3)\n",
    "D = 1\n",
    "d = 1\n",
    "parameters = product(Qs, qs, Ps, ps)\n",
    "param_list = list(parameters)\n",
    "#len(param_list)"
   ]
  },
  {
   "cell_type": "code",
   "execution_count": 11,
   "metadata": {
    "colab": {},
    "colab_type": "code",
    "id": "RR0u7EeC2jtZ"
   },
   "outputs": [],
   "source": [
    "results = []\n",
    "best_aic = float(\"inf\")\n",
    "warnings.filterwarnings('ignore')\n",
    "\n",
    "for param in param_list:\n",
    "  try:\n",
    "    model = sm.tsa.statespace.SARIMAX(df_month.Weighted_Price_box, order = (param[0], d, param[1]), seasonal_order=(param[2], D, param[3], 10)).fit(disp = -1)\n",
    "  except ValueError:\n",
    "    print('wrong parameters: ', param)\n",
    "    continue\n",
    "  aic = model.aic\n",
    "  if aic < best_aic:\n",
    "    best_model = model\n",
    "    best_aic = aic\n",
    "    best_param = param\n",
    "  results.append([param, model.aic])"
   ]
  },
  {
   "cell_type": "code",
   "execution_count": 12,
   "metadata": {
    "colab": {},
    "colab_type": "code",
    "id": "IVU18e_F0fKc"
   },
   "outputs": [],
   "source": [
    "result_table = pd.DataFrame(results)\n",
    "result_table.columns = ['parameters', 'aic']\n",
    "#print(result_table.sort_values(by = 'aic', ascending = True).head())\n",
    "#print(best_model.summary())"
   ]
  },
  {
   "cell_type": "code",
   "execution_count": 13,
   "metadata": {
    "colab": {},
    "colab_type": "code",
    "id": "HQOQE4tB3-ha"
   },
   "outputs": [
    {
     "data": {
      "text/plain": [
       "\"\\nplt.figure(figsize = (15,7))\\nplt.subplot(221)\\nbest_model.resid[13:].plot()\\nplt.ylabel(u'Residuals')\\nax = plt.subplot(222)\\nprint('Dickery-Fuller test :: p = %f' % sm.tsa.stattools.adfuller(best_model.resid[13:])[1])\\nplt.tight_layout()\\nplt.show()\\n\""
      ]
     },
     "execution_count": 13,
     "metadata": {},
     "output_type": "execute_result"
    }
   ],
   "source": [
    "'''\n",
    "plt.figure(figsize = (15,7))\n",
    "plt.subplot(221)\n",
    "best_model.resid[13:].plot()\n",
    "plt.ylabel(u'Residuals')\n",
    "ax = plt.subplot(222)\n",
    "print('Dickery-Fuller test :: p = %f' % sm.tsa.stattools.adfuller(best_model.resid[13:])[1])\n",
    "plt.tight_layout()\n",
    "plt.show()\n",
    "'''"
   ]
  },
  {
   "cell_type": "code",
   "execution_count": 15,
   "metadata": {
    "colab": {},
    "colab_type": "code",
    "id": "9TLBeW_R475F"
   },
   "outputs": [
    {
     "name": "stdout",
     "output_type": "stream",
     "text": [
      "            Weighted_Price Timestamp Open High  Low Close Volume_(BTC)  \\\n",
      "2014-12-31      367.348300       NaN  NaN  NaN  NaN   NaN          NaN   \n",
      "2015-01-31      231.637236       NaN  NaN  NaN  NaN   NaN          NaN   \n",
      "2015-02-28      234.350704       NaN  NaN  NaN  NaN   NaN          NaN   \n",
      "2015-03-31      269.904893       NaN  NaN  NaN  NaN   NaN          NaN   \n",
      "2015-04-30      235.718184       NaN  NaN  NaN  NaN   NaN          NaN   \n",
      "2015-05-31      237.748220       NaN  NaN  NaN  NaN   NaN          NaN   \n",
      "2015-06-30      237.810849       NaN  NaN  NaN  NaN   NaN          NaN   \n",
      "2015-07-31      279.911239       NaN  NaN  NaN  NaN   NaN          NaN   \n",
      "2015-08-31      253.332356       NaN  NaN  NaN  NaN   NaN          NaN   \n",
      "2015-09-30      234.418556       NaN  NaN  NaN  NaN   NaN          NaN   \n",
      "2015-10-31      265.618954       NaN  NaN  NaN  NaN   NaN          NaN   \n",
      "2015-11-30      349.170938       NaN  NaN  NaN  NaN   NaN          NaN   \n",
      "2015-12-31      422.711311       NaN  NaN  NaN  NaN   NaN          NaN   \n",
      "2016-01-31      412.008814       NaN  NaN  NaN  NaN   NaN          NaN   \n",
      "2016-02-29      401.957257       NaN  NaN  NaN  NaN   NaN          NaN   \n",
      "2016-03-31      414.984968       NaN  NaN  NaN  NaN   NaN          NaN   \n",
      "2016-04-30      435.085745       NaN  NaN  NaN  NaN   NaN          NaN   \n",
      "2016-05-31      462.317847       NaN  NaN  NaN  NaN   NaN          NaN   \n",
      "2016-06-30      642.158554       NaN  NaN  NaN  NaN   NaN          NaN   \n",
      "2016-07-31      663.054434       NaN  NaN  NaN  NaN   NaN          NaN   \n",
      "2016-08-31      581.426058       NaN  NaN  NaN  NaN   NaN          NaN   \n",
      "2016-09-30      605.144180       NaN  NaN  NaN  NaN   NaN          NaN   \n",
      "2016-10-31      641.466486       NaN  NaN  NaN  NaN   NaN          NaN   \n",
      "2016-11-30      724.899115       NaN  NaN  NaN  NaN   NaN          NaN   \n",
      "2016-12-31      821.518380       NaN  NaN  NaN  NaN   NaN          NaN   \n",
      "2017-01-31      913.933967       NaN  NaN  NaN  NaN   NaN          NaN   \n",
      "2017-02-28     1062.956945       NaN  NaN  NaN  NaN   NaN          NaN   \n",
      "2017-03-31     1136.155691       NaN  NaN  NaN  NaN   NaN          NaN   \n",
      "2017-04-30     1215.841835       NaN  NaN  NaN  NaN   NaN          NaN   \n",
      "2017-05-31     1904.281976       NaN  NaN  NaN  NaN   NaN          NaN   \n",
      "2017-06-30     2618.291960       NaN  NaN  NaN  NaN   NaN          NaN   \n",
      "2017-07-31     2496.413845       NaN  NaN  NaN  NaN   NaN          NaN   \n",
      "2017-08-31     3836.664201       NaN  NaN  NaN  NaN   NaN          NaN   \n",
      "2017-09-30     4111.023269       NaN  NaN  NaN  NaN   NaN          NaN   \n",
      "2017-10-31     5292.756726       NaN  NaN  NaN  NaN   NaN          NaN   \n",
      "2017-11-30     7785.853884       NaN  NaN  NaN  NaN   NaN          NaN   \n",
      "2017-12-31    15107.930717       NaN  NaN  NaN  NaN   NaN          NaN   \n",
      "2018-01-31    12876.358510       NaN  NaN  NaN  NaN   NaN          NaN   \n",
      "2018-02-28     9381.224390       NaN  NaN  NaN  NaN   NaN          NaN   \n",
      "2018-03-31     9021.548511       NaN  NaN  NaN  NaN   NaN          NaN   \n",
      "2018-04-30     7981.372583       NaN  NaN  NaN  NaN   NaN          NaN   \n",
      "2018-05-31     8435.689881       NaN  NaN  NaN  NaN   NaN          NaN   \n",
      "2018-06-30     6782.481596       NaN  NaN  NaN  NaN   NaN          NaN   \n",
      "2018-07-31     7096.549546       NaN  NaN  NaN  NaN   NaN          NaN   \n",
      "2018-08-31     6687.768956       NaN  NaN  NaN  NaN   NaN          NaN   \n",
      "2018-09-30     6589.791554       NaN  NaN  NaN  NaN   NaN          NaN   \n",
      "2018-10-31     6415.715950       NaN  NaN  NaN  NaN   NaN          NaN   \n",
      "2018-11-30     5389.294200       NaN  NaN  NaN  NaN   NaN          NaN   \n",
      "2018-12-31     3670.885905       NaN  NaN  NaN  NaN   NaN          NaN   \n",
      "2019-01-31     3838.978729       NaN  NaN  NaN  NaN   NaN          NaN   \n",
      "2019-09-30             NaN       NaN  NaN  NaN  NaN   NaN          NaN   \n",
      "2019-10-31             NaN       NaN  NaN  NaN  NaN   NaN          NaN   \n",
      "2019-11-30             NaN       NaN  NaN  NaN  NaN   NaN          NaN   \n",
      "2019-12-31             NaN       NaN  NaN  NaN  NaN   NaN          NaN   \n",
      "2020-01-31             NaN       NaN  NaN  NaN  NaN   NaN          NaN   \n",
      "2020-02-29             NaN       NaN  NaN  NaN  NaN   NaN          NaN   \n",
      "\n",
      "           Volume_(Currency) Weighted_Price_box prices_box_diff       forecast  \n",
      "2014-12-31               NaN                NaN             NaN       1.000000  \n",
      "2015-01-31               NaN                NaN             NaN     367.348305  \n",
      "2015-02-28               NaN                NaN             NaN     231.637235  \n",
      "2015-03-31               NaN                NaN             NaN     234.350704  \n",
      "2015-04-30               NaN                NaN             NaN     269.904893  \n",
      "2015-05-31               NaN                NaN             NaN     235.718183  \n",
      "2015-06-30               NaN                NaN             NaN     237.748220  \n",
      "2015-07-31               NaN                NaN             NaN     237.810849  \n",
      "2015-08-31               NaN                NaN             NaN     279.911239  \n",
      "2015-09-30               NaN                NaN             NaN     253.332355  \n",
      "2015-10-31               NaN                NaN             NaN  567642.385553  \n",
      "2015-11-30               NaN                NaN             NaN     171.203903  \n",
      "2015-12-31               NaN                NaN             NaN     445.415367  \n",
      "2016-01-31               NaN                NaN             NaN     484.964461  \n",
      "2016-02-29               NaN                NaN             NaN     338.392113  \n",
      "2016-03-31               NaN                NaN             NaN     430.213785  \n",
      "2016-04-30               NaN                NaN             NaN     410.155366  \n",
      "2016-05-31               NaN                NaN             NaN     531.244258  \n",
      "2016-06-30               NaN                NaN             NaN     396.806944  \n",
      "2016-07-31               NaN                NaN             NaN     693.702709  \n",
      "2016-08-31               NaN                NaN             NaN     667.508534  \n",
      "2016-09-30               NaN                NaN             NaN     505.978628  \n",
      "2016-10-31               NaN                NaN             NaN     717.809485  \n",
      "2016-11-30               NaN                NaN             NaN     661.588779  \n",
      "2016-12-31               NaN                NaN             NaN     681.153471  \n",
      "2017-01-31               NaN                NaN             NaN     896.264152  \n",
      "2017-02-28               NaN                NaN             NaN     945.010692  \n",
      "2017-03-31               NaN                NaN             NaN    1270.513400  \n",
      "2017-04-30               NaN                NaN             NaN    1237.420974  \n",
      "2017-05-31               NaN                NaN             NaN    1170.621018  \n",
      "2017-06-30               NaN                NaN             NaN    2090.551095  \n",
      "2017-07-31               NaN                NaN             NaN    2610.656666  \n",
      "2017-08-31               NaN                NaN             NaN    2761.836036  \n",
      "2017-09-30               NaN                NaN             NaN    4827.720962  \n",
      "2017-10-31               NaN                NaN             NaN    3796.101270  \n",
      "2017-11-30               NaN                NaN             NaN    6363.167000  \n",
      "2017-12-31               NaN                NaN             NaN    9183.275619  \n",
      "2018-01-31               NaN                NaN             NaN   21504.114843  \n",
      "2018-02-28               NaN                NaN             NaN   12705.079995  \n",
      "2018-03-31               NaN                NaN             NaN   10070.354097  \n",
      "2018-04-30               NaN                NaN             NaN    9335.411600  \n",
      "2018-05-31               NaN                NaN             NaN    7037.543138  \n",
      "2018-06-30               NaN                NaN             NaN   11363.982014  \n",
      "2018-07-31               NaN                NaN             NaN    6427.108362  \n",
      "2018-08-31               NaN                NaN             NaN    7682.608456  \n",
      "2018-09-30               NaN                NaN             NaN    7428.612356  \n",
      "2018-10-31               NaN                NaN             NaN    7936.879412  \n",
      "2018-11-30               NaN                NaN             NaN    6456.955324  \n",
      "2018-12-31               NaN                NaN             NaN    5221.371849  \n",
      "2019-01-31               NaN                NaN             NaN    3622.316817  \n",
      "2019-09-30               NaN                NaN             NaN    6552.848120  \n",
      "2019-10-31               NaN                NaN             NaN    6177.770262  \n",
      "2019-11-30               NaN                NaN             NaN    6814.658973  \n",
      "2019-12-31               NaN                NaN             NaN    6957.091898  \n",
      "2020-01-31               NaN                NaN             NaN    6616.941294  \n",
      "2020-02-29               NaN                NaN             NaN    7576.628485  \n"
     ]
    }
   ],
   "source": [
    "def invboxcox(y, lmbda):\n",
    "  if lmbda == 0:\n",
    "    return(np.exp(y))\n",
    "  else:\n",
    "    return(np.exp(np.log(lmbda*y+1)/lmbda))\n",
    "  \n",
    "df_m2 = df_month[['Weighted_Price']]\n",
    "date_list = [datetime(2019, 9, 30), datetime(2019, 10, 31), datetime(2019, 11, 30), datetime(2019, 12, 31), datetime(2020, 1, 31), datetime(2020, 2, 29)]\n",
    "future = pd.DataFrame(index= date_list, columns= df_month.columns)\n",
    "df_m2 = pd.concat([df_m2, future])\n",
    "df_m2['forecast'] = invboxcox(best_model.predict(start = 0, end = 100), lmbda)\n",
    "\n",
    "print(df_m2)\n"
   ]
  }
 ],
 "metadata": {
  "colab": {
   "authorship_tag": "ABX9TyP+Q+NN9a9M946qfjCPsGBT",
   "collapsed_sections": [],
   "include_colab_link": true,
   "name": "ARIMA",
   "provenance": [],
   "toc_visible": true
  },
  "kernelspec": {
   "display_name": "Python 3",
   "language": "python",
   "name": "python3"
  },
  "language_info": {
   "codemirror_mode": {
    "name": "ipython",
    "version": 3
   },
   "file_extension": ".py",
   "mimetype": "text/x-python",
   "name": "python",
   "nbconvert_exporter": "python",
   "pygments_lexer": "ipython3",
   "version": "3.8.2"
  }
 },
 "nbformat": 4,
 "nbformat_minor": 1
}
