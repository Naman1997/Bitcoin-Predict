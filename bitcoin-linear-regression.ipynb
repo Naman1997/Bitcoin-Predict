{
 "cells": [
  {
   "cell_type": "code",
   "execution_count": 2,
   "metadata": {},
   "outputs": [],
   "source": [
    "import matplotlib.pyplot as plt\n",
    "import pandas as pd\n",
    "import numpy as np\n",
    "from sklearn import linear_model"
   ]
  },
  {
   "cell_type": "code",
   "execution_count": 3,
   "metadata": {},
   "outputs": [
    {
     "data": {
      "text/html": [
       "<div>\n",
       "<style scoped>\n",
       "    .dataframe tbody tr th:only-of-type {\n",
       "        vertical-align: middle;\n",
       "    }\n",
       "\n",
       "    .dataframe tbody tr th {\n",
       "        vertical-align: top;\n",
       "    }\n",
       "\n",
       "    .dataframe thead th {\n",
       "        text-align: right;\n",
       "    }\n",
       "</style>\n",
       "<table border=\"1\" class=\"dataframe\">\n",
       "  <thead>\n",
       "    <tr style=\"text-align: right;\">\n",
       "      <th></th>\n",
       "      <th>Timestamp</th>\n",
       "      <th>Open</th>\n",
       "      <th>High</th>\n",
       "      <th>Low</th>\n",
       "      <th>Close</th>\n",
       "      <th>Volume_(BTC)</th>\n",
       "      <th>Volume_(Currency)</th>\n",
       "      <th>Weighted_Price</th>\n",
       "    </tr>\n",
       "  </thead>\n",
       "  <tbody>\n",
       "    <tr>\n",
       "      <th>0</th>\n",
       "      <td>1325317920</td>\n",
       "      <td>4.39</td>\n",
       "      <td>4.39</td>\n",
       "      <td>4.39</td>\n",
       "      <td>4.39</td>\n",
       "      <td>0.455581</td>\n",
       "      <td>2.000000</td>\n",
       "      <td>4.390000</td>\n",
       "    </tr>\n",
       "    <tr>\n",
       "      <th>478</th>\n",
       "      <td>1325346600</td>\n",
       "      <td>4.39</td>\n",
       "      <td>4.39</td>\n",
       "      <td>4.39</td>\n",
       "      <td>4.39</td>\n",
       "      <td>48.000000</td>\n",
       "      <td>210.720000</td>\n",
       "      <td>4.390000</td>\n",
       "    </tr>\n",
       "    <tr>\n",
       "      <th>547</th>\n",
       "      <td>1325350740</td>\n",
       "      <td>4.50</td>\n",
       "      <td>4.57</td>\n",
       "      <td>4.50</td>\n",
       "      <td>4.57</td>\n",
       "      <td>37.862297</td>\n",
       "      <td>171.380338</td>\n",
       "      <td>4.526411</td>\n",
       "    </tr>\n",
       "    <tr>\n",
       "      <th>548</th>\n",
       "      <td>1325350800</td>\n",
       "      <td>4.58</td>\n",
       "      <td>4.58</td>\n",
       "      <td>4.58</td>\n",
       "      <td>4.58</td>\n",
       "      <td>9.000000</td>\n",
       "      <td>41.220000</td>\n",
       "      <td>4.580000</td>\n",
       "    </tr>\n",
       "    <tr>\n",
       "      <th>1224</th>\n",
       "      <td>1325391360</td>\n",
       "      <td>4.58</td>\n",
       "      <td>4.58</td>\n",
       "      <td>4.58</td>\n",
       "      <td>4.58</td>\n",
       "      <td>1.502000</td>\n",
       "      <td>6.879160</td>\n",
       "      <td>4.580000</td>\n",
       "    </tr>\n",
       "    <tr>\n",
       "      <th>...</th>\n",
       "      <td>...</td>\n",
       "      <td>...</td>\n",
       "      <td>...</td>\n",
       "      <td>...</td>\n",
       "      <td>...</td>\n",
       "      <td>...</td>\n",
       "      <td>...</td>\n",
       "      <td>...</td>\n",
       "    </tr>\n",
       "    <tr>\n",
       "      <th>3997692</th>\n",
       "      <td>1565567760</td>\n",
       "      <td>11555.57</td>\n",
       "      <td>11555.57</td>\n",
       "      <td>11540.37</td>\n",
       "      <td>11540.58</td>\n",
       "      <td>0.036868</td>\n",
       "      <td>425.909106</td>\n",
       "      <td>11552.336234</td>\n",
       "    </tr>\n",
       "    <tr>\n",
       "      <th>3997693</th>\n",
       "      <td>1565567820</td>\n",
       "      <td>11553.49</td>\n",
       "      <td>11556.22</td>\n",
       "      <td>11553.49</td>\n",
       "      <td>11556.22</td>\n",
       "      <td>0.623462</td>\n",
       "      <td>7204.428272</td>\n",
       "      <td>11555.520505</td>\n",
       "    </tr>\n",
       "    <tr>\n",
       "      <th>3997694</th>\n",
       "      <td>1565567880</td>\n",
       "      <td>11559.73</td>\n",
       "      <td>11561.22</td>\n",
       "      <td>11546.77</td>\n",
       "      <td>11561.22</td>\n",
       "      <td>0.159070</td>\n",
       "      <td>1838.731403</td>\n",
       "      <td>11559.252199</td>\n",
       "    </tr>\n",
       "    <tr>\n",
       "      <th>3997695</th>\n",
       "      <td>1565567940</td>\n",
       "      <td>11559.73</td>\n",
       "      <td>11589.73</td>\n",
       "      <td>11528.73</td>\n",
       "      <td>11528.73</td>\n",
       "      <td>16.198210</td>\n",
       "      <td>187504.635170</td>\n",
       "      <td>11575.638889</td>\n",
       "    </tr>\n",
       "    <tr>\n",
       "      <th>3997696</th>\n",
       "      <td>1565568000</td>\n",
       "      <td>11527.44</td>\n",
       "      <td>11551.57</td>\n",
       "      <td>11520.00</td>\n",
       "      <td>11520.00</td>\n",
       "      <td>23.805939</td>\n",
       "      <td>274731.256920</td>\n",
       "      <td>11540.450291</td>\n",
       "    </tr>\n",
       "  </tbody>\n",
       "</table>\n",
       "<p>2765819 rows × 8 columns</p>\n",
       "</div>"
      ],
      "text/plain": [
       "          Timestamp      Open      High       Low     Close  Volume_(BTC)  \\\n",
       "0        1325317920      4.39      4.39      4.39      4.39      0.455581   \n",
       "478      1325346600      4.39      4.39      4.39      4.39     48.000000   \n",
       "547      1325350740      4.50      4.57      4.50      4.57     37.862297   \n",
       "548      1325350800      4.58      4.58      4.58      4.58      9.000000   \n",
       "1224     1325391360      4.58      4.58      4.58      4.58      1.502000   \n",
       "...             ...       ...       ...       ...       ...           ...   \n",
       "3997692  1565567760  11555.57  11555.57  11540.37  11540.58      0.036868   \n",
       "3997693  1565567820  11553.49  11556.22  11553.49  11556.22      0.623462   \n",
       "3997694  1565567880  11559.73  11561.22  11546.77  11561.22      0.159070   \n",
       "3997695  1565567940  11559.73  11589.73  11528.73  11528.73     16.198210   \n",
       "3997696  1565568000  11527.44  11551.57  11520.00  11520.00     23.805939   \n",
       "\n",
       "         Volume_(Currency)  Weighted_Price  \n",
       "0                 2.000000        4.390000  \n",
       "478             210.720000        4.390000  \n",
       "547             171.380338        4.526411  \n",
       "548              41.220000        4.580000  \n",
       "1224              6.879160        4.580000  \n",
       "...                    ...             ...  \n",
       "3997692         425.909106    11552.336234  \n",
       "3997693        7204.428272    11555.520505  \n",
       "3997694        1838.731403    11559.252199  \n",
       "3997695      187504.635170    11575.638889  \n",
       "3997696      274731.256920    11540.450291  \n",
       "\n",
       "[2765819 rows x 8 columns]"
      ]
     },
     "execution_count": 3,
     "metadata": {},
     "output_type": "execute_result"
    }
   ],
   "source": [
    "dados = pd.read_csv('bitstampUSD_1-min_data_2012-01-01_to_2019-08-12.csv',',').dropna()\n",
    "dados"
   ]
  },
  {
   "cell_type": "code",
   "execution_count": 4,
   "metadata": {},
   "outputs": [],
   "source": [
    "x = dados[['Timestamp']]\n",
    "y = dados['Weighted_Price']"
   ]
  },
  {
   "cell_type": "code",
   "execution_count": 5,
   "metadata": {},
   "outputs": [
    {
     "data": {
      "text/plain": [
       "LinearRegression(copy_X=True, fit_intercept=True, n_jobs=None, normalize=False)"
      ]
     },
     "execution_count": 5,
     "metadata": {},
     "output_type": "execute_result"
    }
   ],
   "source": [
    "modelo=linear_model.LinearRegression()\n",
    "modelo.fit(x, y)"
   ]
  },
  {
   "cell_type": "code",
   "execution_count": 11,
   "metadata": {},
   "outputs": [
    {
     "data": {
      "text/plain": [
       "[<matplotlib.lines.Line2D at 0x7fc9e6ad2190>]"
      ]
     },
     "execution_count": 11,
     "metadata": {},
     "output_type": "execute_result"
    },
    {
     "data": {
      "image/png": "[encoded data removed]",
      "text/plain": [
       "<Figure size 432x288 with 1 Axes>"
      ]
     },
     "metadata": {
      "needs_background": "light"
     },
     "output_type": "display_data"
    }
   ],
   "source": [
    "plt.scatter(x, y, color='black')\n",
    "plt.plot(x, modelo.predict(x), color='blue',linewidth=5)"
   ]
  },
  {
   "cell_type": "code",
   "execution_count": 8,
   "metadata": {},
   "outputs": [
    {
     "name": "stdout",
     "output_type": "stream",
     "text": [
      "2765819\n",
      "\n",
      "[1565566260, 1565566320, 1565566380, 1565566440, 1565566500, 1565566560, 1565566620, 1565566680, 1565566740, 1565566800, 1565566860, 1565566920, 1565566980, 1565567040, 1565567100, 1565567160, 1565567220, 1565567280, 1565567340, 1565567400, 1565567460, 1565567520, 1565567580, 1565567640, 1565567700, 1565567760, 1565567820, 1565567880, 1565567940, 1565568000]\n",
      "\n",
      "[7391.63238476 7391.63508279 7391.63778082 7391.64047885 7391.64317689\n",
      " 7391.64587492 7391.64857295 7391.65127098 7391.65396902 7391.65666705\n",
      " 7391.65936508 7391.66206311 7391.66476114 7391.66745918 7391.67015721\n",
      " 7391.67285524 7391.67555327 7391.67825131 7391.68094934 7391.68364737\n",
      " 7391.6863454  7391.68904344 7391.69174147 7391.6944395  7391.69713753\n",
      " 7391.69983557 7391.7025336  7391.70523163 7391.70792966 7391.7106277 ]\n"
     ]
    }
   ],
   "source": [
    "print(x.size)\n",
    "print()\n",
    "print(x.tail(30).values.reshape(-1).tolist()) #Actual data\n",
    "print()\n",
    "print(modelo.predict(x).ravel()[-30:]) #Prediction data"
   ]
  }
 ],
 "metadata": {
  "kernelspec": {
   "display_name": "Python 3",
   "language": "python",
   "name": "python3"
  },
  "language_info": {
   "codemirror_mode": {
    "name": "ipython",
    "version": 3
   },
   "file_extension": ".py",
   "mimetype": "text/x-python",
   "name": "python",
   "nbconvert_exporter": "python",
   "pygments_lexer": "ipython3",
   "version": "3.8.2"
  }
 },
 "nbformat": 4,
 "nbformat_minor": 1
}
