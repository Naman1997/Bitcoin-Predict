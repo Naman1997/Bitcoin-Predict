{
 "cells": [
  {
   "cell_type": "code",
   "execution_count": 1,
   "metadata": {},
   "outputs": [],
   "source": [
    "import matplotlib.pyplot as plt\n",
    "import pandas as pd\n",
    "import numpy as np\n",
    "from sklearn import datasets, linear_model\n",
    "from sklearn.model_selection import cross_validate\n",
    "from sklearn.model_selection import train_test_split\n",
    "import os"
   ]
  },
  {
   "cell_type": "code",
   "execution_count": 2,
   "metadata": {},
   "outputs": [],
   "source": [
    "\n",
    "for dirname, _, filenames in os.walk(''):\n",
    "    for filename in filenames:\n",
    "        print(os.path.join(dirname, filename))"
   ]
  },
  {
   "cell_type": "code",
   "execution_count": 3,
   "metadata": {},
   "outputs": [
    {
     "data": {
      "text/html": [
       "<div>\n",
       "<style scoped>\n",
       "    .dataframe tbody tr th:only-of-type {\n",
       "        vertical-align: middle;\n",
       "    }\n",
       "\n",
       "    .dataframe tbody tr th {\n",
       "        vertical-align: top;\n",
       "    }\n",
       "\n",
       "    .dataframe thead th {\n",
       "        text-align: right;\n",
       "    }\n",
       "</style>\n",
       "<table border=\"1\" class=\"dataframe\">\n",
       "  <thead>\n",
       "    <tr style=\"text-align: right;\">\n",
       "      <th></th>\n",
       "      <th>Timestamp</th>\n",
       "      <th>Open</th>\n",
       "      <th>High</th>\n",
       "      <th>Low</th>\n",
       "      <th>Close</th>\n",
       "      <th>Volume_(BTC)</th>\n",
       "      <th>Volume_(Currency)</th>\n",
       "      <th>Weighted_Price</th>\n",
       "    </tr>\n",
       "  </thead>\n",
       "  <tbody>\n",
       "    <tr>\n",
       "      <th>0</th>\n",
       "      <td>1325317920</td>\n",
       "      <td>4.39</td>\n",
       "      <td>4.39</td>\n",
       "      <td>4.39</td>\n",
       "      <td>4.39</td>\n",
       "      <td>0.455581</td>\n",
       "      <td>2.000000</td>\n",
       "      <td>4.390000</td>\n",
       "    </tr>\n",
       "    <tr>\n",
       "      <th>478</th>\n",
       "      <td>1325346600</td>\n",
       "      <td>4.39</td>\n",
       "      <td>4.39</td>\n",
       "      <td>4.39</td>\n",
       "      <td>4.39</td>\n",
       "      <td>48.000000</td>\n",
       "      <td>210.720000</td>\n",
       "      <td>4.390000</td>\n",
       "    </tr>\n",
       "    <tr>\n",
       "      <th>547</th>\n",
       "      <td>1325350740</td>\n",
       "      <td>4.50</td>\n",
       "      <td>4.57</td>\n",
       "      <td>4.50</td>\n",
       "      <td>4.57</td>\n",
       "      <td>37.862297</td>\n",
       "      <td>171.380338</td>\n",
       "      <td>4.526411</td>\n",
       "    </tr>\n",
       "    <tr>\n",
       "      <th>548</th>\n",
       "      <td>1325350800</td>\n",
       "      <td>4.58</td>\n",
       "      <td>4.58</td>\n",
       "      <td>4.58</td>\n",
       "      <td>4.58</td>\n",
       "      <td>9.000000</td>\n",
       "      <td>41.220000</td>\n",
       "      <td>4.580000</td>\n",
       "    </tr>\n",
       "    <tr>\n",
       "      <th>1224</th>\n",
       "      <td>1325391360</td>\n",
       "      <td>4.58</td>\n",
       "      <td>4.58</td>\n",
       "      <td>4.58</td>\n",
       "      <td>4.58</td>\n",
       "      <td>1.502000</td>\n",
       "      <td>6.879160</td>\n",
       "      <td>4.580000</td>\n",
       "    </tr>\n",
       "    <tr>\n",
       "      <th>...</th>\n",
       "      <td>...</td>\n",
       "      <td>...</td>\n",
       "      <td>...</td>\n",
       "      <td>...</td>\n",
       "      <td>...</td>\n",
       "      <td>...</td>\n",
       "      <td>...</td>\n",
       "      <td>...</td>\n",
       "    </tr>\n",
       "    <tr>\n",
       "      <th>3997692</th>\n",
       "      <td>1565567760</td>\n",
       "      <td>11555.57</td>\n",
       "      <td>11555.57</td>\n",
       "      <td>11540.37</td>\n",
       "      <td>11540.58</td>\n",
       "      <td>0.036868</td>\n",
       "      <td>425.909106</td>\n",
       "      <td>11552.336234</td>\n",
       "    </tr>\n",
       "    <tr>\n",
       "      <th>3997693</th>\n",
       "      <td>1565567820</td>\n",
       "      <td>11553.49</td>\n",
       "      <td>11556.22</td>\n",
       "      <td>11553.49</td>\n",
       "      <td>11556.22</td>\n",
       "      <td>0.623462</td>\n",
       "      <td>7204.428272</td>\n",
       "      <td>11555.520505</td>\n",
       "    </tr>\n",
       "    <tr>\n",
       "      <th>3997694</th>\n",
       "      <td>1565567880</td>\n",
       "      <td>11559.73</td>\n",
       "      <td>11561.22</td>\n",
       "      <td>11546.77</td>\n",
       "      <td>11561.22</td>\n",
       "      <td>0.159070</td>\n",
       "      <td>1838.731403</td>\n",
       "      <td>11559.252199</td>\n",
       "    </tr>\n",
       "    <tr>\n",
       "      <th>3997695</th>\n",
       "      <td>1565567940</td>\n",
       "      <td>11559.73</td>\n",
       "      <td>11589.73</td>\n",
       "      <td>11528.73</td>\n",
       "      <td>11528.73</td>\n",
       "      <td>16.198210</td>\n",
       "      <td>187504.635170</td>\n",
       "      <td>11575.638889</td>\n",
       "    </tr>\n",
       "    <tr>\n",
       "      <th>3997696</th>\n",
       "      <td>1565568000</td>\n",
       "      <td>11527.44</td>\n",
       "      <td>11551.57</td>\n",
       "      <td>11520.00</td>\n",
       "      <td>11520.00</td>\n",
       "      <td>23.805939</td>\n",
       "      <td>274731.256920</td>\n",
       "      <td>11540.450291</td>\n",
       "    </tr>\n",
       "  </tbody>\n",
       "</table>\n",
       "<p>2765819 rows × 8 columns</p>\n",
       "</div>"
      ],
      "text/plain": [
       "          Timestamp      Open      High       Low     Close  Volume_(BTC)  \\\n",
       "0        1325317920      4.39      4.39      4.39      4.39      0.455581   \n",
       "478      1325346600      4.39      4.39      4.39      4.39     48.000000   \n",
       "547      1325350740      4.50      4.57      4.50      4.57     37.862297   \n",
       "548      1325350800      4.58      4.58      4.58      4.58      9.000000   \n",
       "1224     1325391360      4.58      4.58      4.58      4.58      1.502000   \n",
       "...             ...       ...       ...       ...       ...           ...   \n",
       "3997692  1565567760  11555.57  11555.57  11540.37  11540.58      0.036868   \n",
       "3997693  1565567820  11553.49  11556.22  11553.49  11556.22      0.623462   \n",
       "3997694  1565567880  11559.73  11561.22  11546.77  11561.22      0.159070   \n",
       "3997695  1565567940  11559.73  11589.73  11528.73  11528.73     16.198210   \n",
       "3997696  1565568000  11527.44  11551.57  11520.00  11520.00     23.805939   \n",
       "\n",
       "         Volume_(Currency)  Weighted_Price  \n",
       "0                 2.000000        4.390000  \n",
       "478             210.720000        4.390000  \n",
       "547             171.380338        4.526411  \n",
       "548              41.220000        4.580000  \n",
       "1224              6.879160        4.580000  \n",
       "...                    ...             ...  \n",
       "3997692         425.909106    11552.336234  \n",
       "3997693        7204.428272    11555.520505  \n",
       "3997694        1838.731403    11559.252199  \n",
       "3997695      187504.635170    11575.638889  \n",
       "3997696      274731.256920    11540.450291  \n",
       "\n",
       "[2765819 rows x 8 columns]"
      ]
     },
     "execution_count": 3,
     "metadata": {},
     "output_type": "execute_result"
    }
   ],
   "source": [
    "dados = pd.read_csv('bitstampUSD_1-min_data_2012-01-01_to_2019-08-12.csv',',').dropna()\n",
    "dados"
   ]
  },
  {
   "cell_type": "code",
   "execution_count": 4,
   "metadata": {},
   "outputs": [],
   "source": [
    "# Attempt at using multiple columns (Scrapped as data doesn't correlate at all)\n",
    "# x = np.array([dados['Open'], dados['High'], dados['Low'], dados['Close']])\n",
    "# x = x[:, np.newaxis]\n",
    "# x = x.reshape(x.shape[2], x.shape[1], x.shape[0])\n",
    "# x = x[:,:,2]\n",
    "# y = dados['Weighted_Price']\n",
    "# [x.shape, y.shape]\n",
    "\n",
    "x = dados[['Timestamp']]\n",
    "y = dados['Weighted_Price']"
   ]
  },
  {
   "cell_type": "code",
   "execution_count": 5,
   "metadata": {},
   "outputs": [
    {
     "data": {
      "text/plain": [
       "[          Timestamp\n",
       " 3531628  1537603920\n",
       " 3761891  1551419700\n",
       " 930829   1381167660\n",
       " 798954   1373255160\n",
       " 3283225  1522699740\n",
       " ...             ...\n",
       " 1583856  1420349280\n",
       " 1498101  1415203980\n",
       " 3177610  1516362840\n",
       " 910174   1379928360\n",
       " 1677120  1426333440\n",
       " \n",
       " [2074364 rows x 1 columns],\n",
       "           Timestamp\n",
       " 3365370  1527628440\n",
       " 2093385  1451309340\n",
       " 1366263  1407293700\n",
       " 3859487  1557275460\n",
       " 1989620  1445083440\n",
       " ...             ...\n",
       " 2140094  1454111880\n",
       " 3163079  1515490980\n",
       " 573991   1359757380\n",
       " 2317536  1464758400\n",
       " 2444967  1472404260\n",
       " \n",
       " [691455 rows x 1 columns],\n",
       " 3531628     6700.251000\n",
       " 3761891     3801.910000\n",
       " 930829       123.440542\n",
       " 798954        73.027348\n",
       " 3283225     6979.984827\n",
       "                ...     \n",
       " 1583856      282.020000\n",
       " 1498101      341.304114\n",
       " 3177610    11820.307006\n",
       " 910174       123.357672\n",
       " 1677120      284.287825\n",
       " Name: Weighted_Price, Length: 2074364, dtype: float64,\n",
       " 3365370     7494.887891\n",
       " 2093385      423.760000\n",
       " 1366263      584.920000\n",
       " 3859487     5756.995462\n",
       " 1989620      269.376936\n",
       "                ...     \n",
       " 2140094      378.332525\n",
       " 3163079    15150.948034\n",
       " 573991        20.660000\n",
       " 2317536      530.186280\n",
       " 2444967      569.940000\n",
       " Name: Weighted_Price, Length: 691455, dtype: float64]"
      ]
     },
     "execution_count": 5,
     "metadata": {},
     "output_type": "execute_result"
    }
   ],
   "source": [
    "x_train, x_test, y_train, y_test=train_test_split(x, y)\n",
    "[x_train, x_test, y_train, y_test]"
   ]
  },
  {
   "cell_type": "code",
   "execution_count": 7,
   "metadata": {},
   "outputs": [
    {
     "data": {
      "text/plain": [
       "LinearRegression(copy_X=True, fit_intercept=True, n_jobs=None, normalize=False)"
      ]
     },
     "execution_count": 7,
     "metadata": {},
     "output_type": "execute_result"
    }
   ],
   "source": [
    "modelo=linear_model.LinearRegression()\n",
    "modelo.fit(x_train, y_train)"
   ]
  },
  {
   "cell_type": "code",
   "execution_count": 8,
   "metadata": {},
   "outputs": [
    {
     "name": "stdout",
     "output_type": "stream",
     "text": [
      "Fórmula (a * x + b): 4.495374145759788e-05 * x + -62987.902297012624\n",
      "Qualidade: 0.529369621729887\n",
      "Desvio padrão: 2570.2374480929066\n"
     ]
    }
   ],
   "source": [
    "print('Fórmula (a * x + b): {} * x + {}'.format(modelo.coef_[0], modelo.intercept_))\n",
    "print('Qualidade: {}'.format(modelo.score(x_test,y_test)))\n",
    "print('Desvio padrão: {}'.format(np.sqrt(np.mean((modelo.predict(x_test)-y_test)**2))))"
   ]
  },
  {
   "cell_type": "code",
   "execution_count": 9,
   "metadata": {},
   "outputs": [
    {
     "data": {
      "text/plain": [
       "[<matplotlib.lines.Line2D at 0x7f774c6cb340>]"
      ]
     },
     "execution_count": 9,
     "metadata": {},
     "output_type": "execute_result"
    },
    {
     "data": {
      "image/png": "[encoded data removed]",
      "text/plain": [
       "<Figure size 432x288 with 1 Axes>"
      ]
     },
     "metadata": {
      "needs_background": "light"
     },
     "output_type": "display_data"
    }
   ],
   "source": [
    "plt.scatter(x_test, y_test, color='black')\n",
    "plt.plot(x_test, modelo.predict(x_test), color='blue',linewidth=5)"
   ]
  },
  {
   "cell_type": "code",
   "execution_count": 10,
   "metadata": {},
   "outputs": [
    {
     "data": {
      "text/plain": [
       "array([-3409.90317221, -3406.60176944,  -692.13122861,  -338.57095112,\n",
       "         276.95725471,   491.17082351,  1704.80046776,  4978.83989798,\n",
       "        5519.7305078 ,  7390.23680928])"
      ]
     },
     "execution_count": 10,
     "metadata": {},
     "output_type": "execute_result"
    }
   ],
   "source": [
    "w_test = np.array([[1325317920], [1325391360], [1385775000], [1393639980], [1407332460], [1412097660], [1439094960], [1511926260], [1523958420], [1565568000]])\n",
    "#                   first input   1224th        1007618th     1138701th     1366909th     1446329th     1889812th     3103667th     3304203th     last input\n",
    "y_pred = modelo.predict(w_test)\n",
    "y_pred # ideal would be 4.390000, 4.580000, 1137.000000, 550.481835, 577.350000, 381.058418, 261.864553, 10196.695773, 8148.332643, 11540.450291"
   ]
  },
  {
   "cell_type": "code",
   "execution_count": null,
   "metadata": {},
   "outputs": [],
   "source": []
  }
 ],
 "metadata": {
  "kernelspec": {
   "display_name": "Python 3",
   "language": "python",
   "name": "python3"
  },
  "language_info": {
   "codemirror_mode": {
    "name": "ipython",
    "version": 3
   },
   "file_extension": ".py",
   "mimetype": "text/x-python",
   "name": "python",
   "nbconvert_exporter": "python",
   "pygments_lexer": "ipython3",
   "version": "3.8.2"
  }
 },
 "nbformat": 4,
 "nbformat_minor": 1
}
