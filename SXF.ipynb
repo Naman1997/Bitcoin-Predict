{
  "nbformat": 4,
  "nbformat_minor": 0,
  "metadata": {
    "colab": {
      "name": "SXF.ipynb",
      "provenance": [],
      "authorship_tag": "ABX9TyMenAqq7mNs4qVfJ9BCt9oT"
    },
    "kernelspec": {
      "name": "python3",
      "display_name": "Python 3"
    }
  },
  "cells": [
    {
      "cell_type": "code",
      "metadata": {
        "id": "PHm2ajvrI6Ir",
        "colab_type": "code",
        "colab": {}
      },
      "source": [
        "!pip install pmdarima\n",
        "import numpy as np\n",
        "import matplotlib.pyplot as plt\n",
        "import pandas as pd\n",
        "from datetime import datetime, date\n",
        "import pmdarima as pm\n",
        "from scipy import stats\n",
        "from statsmodels.tsa.arima_model import ARIMA\n",
        "import statsmodels.api as sm\n",
        "from itertools import product\n",
        "import seaborn as sns\n",
        "import warnings"
      ],
      "execution_count": 0,
      "outputs": []
    },
    {
      "cell_type": "code",
      "metadata": {
        "id": "7iQdQ3T5JO7N",
        "colab_type": "code",
        "colab": {}
      },
      "source": [
        "df = pd.read_csv(\"/content/drive/My Drive/coinbaseUSD_1-min_data_2014-12-01_to_2019-01-09.csv\",delimiter= ',')"
      ],
      "execution_count": 0,
      "outputs": []
    },
    {
      "cell_type": "code",
      "metadata": {
        "id": "KtH98VUAJTjE",
        "colab_type": "code",
        "colab": {}
      },
      "source": [
        "df['Timestamp'] = pd.to_datetime(df['Timestamp'], unit = 's')\n",
        "df.set_index('Timestamp', inplace=True)\n",
        "df = df.resample('D').mean()"
      ],
      "execution_count": 0,
      "outputs": []
    },
    {
      "cell_type": "code",
      "metadata": {
        "id": "DhL6EPBhJVof",
        "colab_type": "code",
        "colab": {}
      },
      "source": [
        "df1 = df.iloc[:-30]"
      ],
      "execution_count": 0,
      "outputs": []
    },
    {
      "cell_type": "code",
      "metadata": {
        "id": "esH9v-YXJYEM",
        "colab_type": "code",
        "colab": {}
      },
      "source": [
        "df1['diff1'] = df1['Weighted_Price'] - df1['Weighted_Price'].shift(30)"
      ],
      "execution_count": 0,
      "outputs": []
    },
    {
      "cell_type": "code",
      "metadata": {
        "id": "Q38Kh8EIJfyM",
        "colab_type": "code",
        "colab": {}
      },
      "source": [
        "Q = range(0,2)\n",
        "q = range(0,2)\n",
        "P = range(0,2)\n",
        "p = range(0,2)\n",
        "D = 1\n",
        "d = 1\n",
        "parameters = product(p,q, P, Q)\n",
        "parameters_list = list(parameters)\n",
        "len(parameters_list)\n",
        "\n",
        "res = []\n",
        "ai = float(\"inf\")\n",
        "warnings.filterwarnings('ignore')\n",
        "for param in parameters_list:\n",
        "  try:\n",
        "    model = sm.tsa.statespace.SARIMAX(df1['Weighted_Price'], order = (param[0], d, param[1]),\n",
        "                                      seasonal_order = (param[2], D, param[3], 12)).fit(disp = -1)\n",
        "  except ValueError:\n",
        "    continue\n",
        "  aic = model.aic\n",
        "  if aic < ai:\n",
        "    ml = model\n",
        "    ai = aic\n",
        "    para = param\n",
        "  res.append([param, model.aic])"
      ],
      "execution_count": 0,
      "outputs": []
    },
    {
      "cell_type": "code",
      "metadata": {
        "id": "JCtdexsLJgXI",
        "colab_type": "code",
        "colab": {}
      },
      "source": [
        "start = len(df1.axes[0])\n",
        "end = start + 29\n",
        "#df3 = the predicted array\n",
        "#d4 = the actual array\n",
        "df3 = ml.predict(start = start, end = end)\n",
        "df4 = df['Weighted_Price'][-30:]\n",
        "print(df3.to_list())\n",
        "print(df4.to_list())"
      ],
      "execution_count": 0,
      "outputs": []
    }
  ]
}