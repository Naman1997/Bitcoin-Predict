{
 "cells": [
  {
   "cell_type": "code",
   "execution_count": 0,
   "metadata": {
    "colab": {},
    "colab_type": "code",
    "id": "PHm2ajvrI6Ir"
   },
   "outputs": [],
   "source": [
    "!pip install pmdarima\n",
    "import numpy as np\n",
    "import matplotlib.pyplot as plt\n",
    "import pandas as pd\n",
    "from datetime import datetime, date\n",
    "import pmdarima as pm\n",
    "from scipy import stats\n",
    "from statsmodels.tsa.arima_model import ARIMA\n",
    "import statsmodels.api as sm\n",
    "from itertools import product\n",
    "import seaborn as sns\n",
    "import warnings"
   ]
  },
  {
   "cell_type": "code",
   "execution_count": 0,
   "metadata": {
    "colab": {},
    "colab_type": "code",
    "id": "7iQdQ3T5JO7N"
   },
   "outputs": [],
   "source": [
    "df = pd.read_csv(\"coinbaseUSD_1-min_data_2014-12-01_to_2019-01-09.csv\",delimiter= ',')"
   ]
  },
  {
   "cell_type": "code",
   "execution_count": 0,
   "metadata": {
    "colab": {},
    "colab_type": "code",
    "id": "KtH98VUAJTjE"
   },
   "outputs": [],
   "source": [
    "df['Timestamp'] = pd.to_datetime(df['Timestamp'], unit = 's')\n",
    "df.set_index('Timestamp', inplace=True)\n",
    "df = df.resample('D').mean()"
   ]
  },
  {
   "cell_type": "code",
   "execution_count": 0,
   "metadata": {
    "colab": {},
    "colab_type": "code",
    "id": "DhL6EPBhJVof"
   },
   "outputs": [],
   "source": [
    "df1 = df.iloc[:-30]"
   ]
  },
  {
   "cell_type": "code",
   "execution_count": 0,
   "metadata": {
    "colab": {},
    "colab_type": "code",
    "id": "esH9v-YXJYEM"
   },
   "outputs": [],
   "source": [
    "df1['diff1'] = df1['Weighted_Price'] - df1['Weighted_Price'].shift(30)"
   ]
  },
  {
   "cell_type": "code",
   "execution_count": 0,
   "metadata": {
    "colab": {},
    "colab_type": "code",
    "id": "Q38Kh8EIJfyM"
   },
   "outputs": [],
   "source": [
    "Q = range(0,2)\n",
    "q = range(0,2)\n",
    "P = range(0,2)\n",
    "p = range(0,2)\n",
    "D = 1\n",
    "d = 1\n",
    "parameters = product(p,q, P, Q)\n",
    "parameters_list = list(parameters)\n",
    "len(parameters_list)\n",
    "\n",
    "res = []\n",
    "ai = float(\"inf\")\n",
    "warnings.filterwarnings('ignore')\n",
    "for param in parameters_list:\n",
    "  try:\n",
    "    model = sm.tsa.statespace.SARIMAX(df1['Weighted_Price'], order = (param[0], d, param[1]),\n",
    "                                      seasonal_order = (param[2], D, param[3], 12)).fit(disp = -1)\n",
    "  except ValueError:\n",
    "    continue\n",
    "  aic = model.aic\n",
    "  if aic < ai:\n",
    "    ml = model\n",
    "    ai = aic\n",
    "    para = param\n",
    "  res.append([param, model.aic])"
   ]
  },
  {
   "cell_type": "code",
   "execution_count": 0,
   "metadata": {
    "colab": {},
    "colab_type": "code",
    "id": "JCtdexsLJgXI"
   },
   "outputs": [],
   "source": [
    "start = len(df1.axes[0])\n",
    "end = start + 29\n",
    "#df3 = the predicted array\n",
    "#d4 = the actual array\n",
    "df3 = ml.predict(start = start, end = end)\n",
    "df4 = df['Weighted_Price'][-30:]\n",
    "print(df3.to_list())\n",
    "print(df4.to_list())"
   ]
  }
 ],
 "metadata": {
  "colab": {
   "authorship_tag": "ABX9TyMenAqq7mNs4qVfJ9BCt9oT",
   "name": "SXF.ipynb",
   "provenance": []
  },
  "kernelspec": {
   "display_name": "Python 3",
   "language": "python",
   "name": "python3"
  },
  "language_info": {
   "codemirror_mode": {
    "name": "ipython",
    "version": 3
   },
   "file_extension": ".py",
   "mimetype": "text/x-python",
   "name": "python",
   "nbconvert_exporter": "python",
   "pygments_lexer": "ipython3",
   "version": "3.8.3"
  }
 },
 "nbformat": 4,
 "nbformat_minor": 1
}
